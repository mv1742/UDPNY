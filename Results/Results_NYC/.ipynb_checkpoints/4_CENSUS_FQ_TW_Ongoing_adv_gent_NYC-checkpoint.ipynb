{
 "cells": [
  {
   "cell_type": "code",
   "execution_count": 2,
   "metadata": {},
   "outputs": [],
   "source": [
    "variable= 'gent00_16'\n",
    "binary6typ = variable\n",
    "model_name = '4_CENSUS_FQ_'+variable+'Manhattan'"
   ]
  },
  {
   "cell_type": "markdown",
   "metadata": {},
   "source": [
    "# Analysis of Foursquare Data\n",
    "# NYU - CUSP UDP Capstone\n",
    "# Foursquare + NYC Merge by CT \n",
    "## Brief\n",
    "This notebook \n",
    "1. Part I. Data Processing\n",
    "\n",
    "    - import Foursquare data\n",
    "    - imports the Census Tract shapefile\n",
    "    - import Typologies\n",
    "    - merges topologies\n",
    "    - Spatail join by Census Tract\n",
    "    - merges topologies\n",
    "    - map topologies\n",
    "    - map Businesses\n",
    "1. Part II. Data Processing\n",
    "    - Performs a classifcation task on Typologies\n",
    "###  You can refer to https://github.com/mv1742/updny_2"
   ]
  },
  {
   "cell_type": "markdown",
   "metadata": {},
   "source": [
    "# Part I. Data Processing\n"
   ]
  },
  {
   "cell_type": "code",
   "execution_count": 3,
   "metadata": {},
   "outputs": [
    {
     "name": "stdout",
     "output_type": "stream",
     "text": [
      "Populating the interactive namespace from numpy and matplotlib\n"
     ]
    },
    {
     "name": "stderr",
     "output_type": "stream",
     "text": [
      "/usr/local/Anaconda3-5.0.0-Linux-x86_64/envs/ADS/lib/python3.5/site-packages/IPython/core/magics/pylab.py:160: UserWarning: pylab import has clobbered these variables: ['Polygon', 'linalg']\n",
      "`%matplotlib` prevents importing * from pylab and numpy\n",
      "  \"\\n`%matplotlib` prevents importing * from pylab and numpy\"\n"
     ]
    }
   ],
   "source": [
    "import os\n",
    "import requests\n",
    "import shapely\n",
    "import json\n",
    "\n",
    "import matplotlib.pyplot as plt #plotting\n",
    "import pandas as pd\n",
    "import numpy as np\n",
    "import scipy.stats as stat\n",
    "#make sure plots are embedded into the notebook\n",
    "%matplotlib inline\n",
    "#import statsmodels.formula.api as smf\n",
    "import itertools\n",
    "import geopandas as gpd\n",
    "from shapely.geometry import Point, Polygon\n",
    "from sklearn.metrics import silhouette_score\n",
    "# from sklearn.mixture import GaussianMixture\n",
    "from scipy import linalg\n",
    "import matplotlib as mpl\n",
    "import pandas as pd\n",
    "from sklearn import preprocessing\n",
    "from scipy.cluster.hierarchy import dendrogram, linkage  # for hierarchical clustering\n",
    "from scipy.cluster.hierarchy import fcluster\n",
    "# from sklearn.mixture import GaussianMixture\n",
    "from scipy import linalg\n",
    "import matplotlib as mpl\n",
    "import pandas as pd\n",
    "from sklearn import preprocessing\n",
    "from scipy.cluster.hierarchy import dendrogram, linkage  # for hierarchical clustering\n",
    "from scipy.cluster.hierarchy import fcluster\n",
    "import pandas as pd\n",
    "import numpy as np\n",
    "from matplotlib import pyplot as plt\n",
    "from sklearn.model_selection import train_test_split\n",
    "from sklearn.cluster import KMeans\n",
    "import geopandas as gpd\n",
    "import pylab as pl\n",
    "import io\n",
    "import pylab as pl\n",
    "\n",
    "from geopandas import GeoDataFrame\n",
    "from geopandas.tools import sjoin\n",
    "try:\n",
    "    import ipywidgets as widgets\n",
    "    hasWidgets = True\n",
    "except ImportError:\n",
    "    hasWidgets = False\n",
    "from sklearn.linear_model import LogisticRegression\n",
    "from sklearn import svm\n",
    "# from sklearn.metrics import confusion_matrix\n",
    "# from sklearn import datasets\n",
    "from sklearn.decomposition import PCA\n",
    "from sklearn import preprocessing\n",
    "from sklearn.metrics import roc_auc_score\n",
    "from sklearn.ensemble import RandomForestClassifier\n",
    "from sklearn.model_selection import GridSearchCV\n",
    "from sklearn.tree import DecisionTreeClassifier\n",
    "from sklearn.metrics import f1_score\n",
    "from sklearn.metrics import recall_score\n",
    "# from sklearn.metrics import precision_score\n",
    "from sklearn.linear_model import LogisticRegression\n",
    "from sklearn.metrics import confusion_matrix, accuracy_score, precision_score, classification_report\n",
    "import matplotlib.pylab\n",
    "import sklearn.preprocessing as preprocessing\n",
    "from sklearn.preprocessing import MinMaxScaler\n",
    "from sklearn.model_selection import train_test_split\n",
    "\n",
    "%pylab inline"
   ]
  },
  {
   "cell_type": "markdown",
   "metadata": {},
   "source": [
    "# NYU - CUSP UDP Capstone\n",
    "# Foursquare + NYC Merge by CT \n",
    "## Brief\n",
    "This notebook \n",
    "- import Foursquare data\n",
    "- imports the Census Tract shapefile\n",
    "- import Typologies\n",
    "- merges topologies\n",
    "- Spatail join by Census Tract\n",
    "- merges topologies\n",
    "- map topologies\n",
    "- map Businesses\n",
    "- outputs a .csv of the results\n",
    "- You can refer to https://github.com/mv1742/updny_2"
   ]
  },
  {
   "cell_type": "code",
   "execution_count": 138,
   "metadata": {},
   "outputs": [],
   "source": [
    "# # url = 'https://planninglabs.carto.com/api/v2/sql?filename=region&q=SELECT%20%2A%20FROM%20region_censustract_v0&format=SHP'\n",
    "# # NYCzip = getGeoDataFrameFromShpFileZipUrl(url)\n",
    "\n",
    "# # GREATER NY REGION\n",
    "# NYCzip=gpd.read_file('Censustracts/region.shp')\n",
    "# NYCzip.plot()\n"
   ]
  },
  {
   "cell_type": "code",
   "execution_count": 139,
   "metadata": {},
   "outputs": [
    {
     "name": "stdout",
     "output_type": "stream",
     "text": [
      "Index(['GEOID', 'STATE', 'COUNTY', 'TRACT', 'NAME', 'LSAD', 'SHAPE_AREA',\n",
      "       'SHAPE_LEN', 'geometry'],\n",
      "      dtype='object') 2166\n"
     ]
    },
    {
     "data": {
      "text/html": [
       "<div>\n",
       "<style scoped>\n",
       "    .dataframe tbody tr th:only-of-type {\n",
       "        vertical-align: middle;\n",
       "    }\n",
       "\n",
       "    .dataframe tbody tr th {\n",
       "        vertical-align: top;\n",
       "    }\n",
       "\n",
       "    .dataframe thead th {\n",
       "        text-align: right;\n",
       "    }\n",
       "</style>\n",
       "<table border=\"1\" class=\"dataframe\">\n",
       "  <thead>\n",
       "    <tr style=\"text-align: right;\">\n",
       "      <th></th>\n",
       "      <th>GEOID</th>\n",
       "      <th>STATE</th>\n",
       "      <th>COUNTY</th>\n",
       "      <th>TRACT</th>\n",
       "      <th>NAME</th>\n",
       "      <th>LSAD</th>\n",
       "      <th>SHAPE_AREA</th>\n",
       "      <th>SHAPE_LEN</th>\n",
       "      <th>geometry</th>\n",
       "    </tr>\n",
       "  </thead>\n",
       "  <tbody>\n",
       "    <tr>\n",
       "      <th>0</th>\n",
       "      <td>36061023200</td>\n",
       "      <td>36</td>\n",
       "      <td>061</td>\n",
       "      <td>023200</td>\n",
       "      <td>232</td>\n",
       "      <td>Tract</td>\n",
       "      <td>315454.109620</td>\n",
       "      <td>2319.596620</td>\n",
       "      <td>POLYGON ((-8231231.5405 4986146.175700001, -82...</td>\n",
       "    </tr>\n",
       "    <tr>\n",
       "      <th>1</th>\n",
       "      <td>36061023501</td>\n",
       "      <td>36</td>\n",
       "      <td>061</td>\n",
       "      <td>023501</td>\n",
       "      <td>235.01</td>\n",
       "      <td>Tract</td>\n",
       "      <td>313937.347211</td>\n",
       "      <td>2227.424896</td>\n",
       "      <td>POLYGON ((-8231450.728599999 4987247.602399997...</td>\n",
       "    </tr>\n",
       "  </tbody>\n",
       "</table>\n",
       "</div>"
      ],
      "text/plain": [
       "         GEOID STATE COUNTY   TRACT    NAME   LSAD     SHAPE_AREA  \\\n",
       "0  36061023200    36    061  023200     232  Tract  315454.109620   \n",
       "1  36061023501    36    061  023501  235.01  Tract  313937.347211   \n",
       "\n",
       "     SHAPE_LEN                                           geometry  \n",
       "0  2319.596620  POLYGON ((-8231231.5405 4986146.175700001, -82...  \n",
       "1  2227.424896  POLYGON ((-8231450.728599999 4987247.602399997...  "
      ]
     },
     "execution_count": 139,
     "metadata": {},
     "output_type": "execute_result"
    },
    {
     "data": {
      "image/png": "[encoded data removed]",
      "text/plain": [
       "<matplotlib.figure.Figure at 0x7eff4c952a20>"
      ]
     },
     "metadata": {
      "needs_background": "light"
     },
     "output_type": "display_data"
    }
   ],
   "source": [
    "# NYC ONLY\n",
    "NYCzip=gpd.read_file('./Data/NYC/14000.shp')\n",
    "NYCzip.rename(columns={\"GEO_ID\": \"GEOID\"},inplace=True)\n",
    "NYCzip.plot()\n",
    "print(NYCzip.columns,len(NYCzip))\n",
    "NYCzip.GEOID = NYCzip.GEOID.str[-11:]\n",
    "\n",
    "NYCzip.head(2)"
   ]
  },
  {
   "cell_type": "code",
   "execution_count": 140,
   "metadata": {},
   "outputs": [
    {
     "data": {
      "text/plain": [
       "Index(['GEOID', 'STATE', 'COUNTY', 'TRACT', 'NAME', 'LSAD', 'SHAPE_AREA',\n",
       "       'SHAPE_LEN', 'geometry'],\n",
       "      dtype='object')"
      ]
     },
     "execution_count": 140,
     "metadata": {},
     "output_type": "execute_result"
    }
   ],
   "source": [
    "NYCzip.columns"
   ]
  },
  {
   "cell_type": "code",
   "execution_count": 141,
   "metadata": {},
   "outputs": [
    {
     "data": {
      "text/plain": [
       "GEOID       0\n",
       "geometry    0\n",
       "dtype: int64"
      ]
     },
     "execution_count": 141,
     "metadata": {},
     "output_type": "execute_result"
    }
   ],
   "source": [
    "NYCzip.rename(columns={\"geoid\": \"GEOID\"},inplace=True)\n",
    "NYCzip.GEOID = NYCzip.GEOID.astype(int)\n",
    "cols = ['GEOID','geometry']\n",
    "NYCzip = NYCzip.loc[:,cols]\n",
    "#NYCzipgdp.plot(column='GEOID',legend = True)\n",
    "NYCzip.shape\n",
    "NYCzip.isnull().sum()"
   ]
  },
  {
   "cell_type": "code",
   "execution_count": 142,
   "metadata": {},
   "outputs": [
    {
     "data": {
      "text/plain": [
       "<matplotlib.axes._subplots.AxesSubplot at 0x7eff0d2c6780>"
      ]
     },
     "execution_count": 142,
     "metadata": {},
     "output_type": "execute_result"
    },
    {
     "data": {
      "image/png": "[encoded data removed]",
      "text/plain": [
       "<matplotlib.figure.Figure at 0x7eff4c0b6b38>"
      ]
     },
     "metadata": {
      "needs_background": "light"
     },
     "output_type": "display_data"
    }
   ],
   "source": [
    "figure, ax = plt.subplots(figsize=(5, 5))\n",
    "NYCzip.plot(column='GEOID',legend = True, ax=ax)"
   ]
  },
  {
   "cell_type": "markdown",
   "metadata": {},
   "source": [
    "# Typologies\n",
    "- import raw Typology file with Census data 'NY_final_data_for_typologies_1.19.19.csv'\n",
    "- merges Typologies with the new Binary typologies\n",
    "- map topologies"
   ]
  },
  {
   "cell_type": "code",
   "execution_count": 143,
   "metadata": {},
   "outputs": [
    {
     "data": {
      "text/plain": [
       "82"
      ]
     },
     "execution_count": 143,
     "metadata": {},
     "output_type": "execute_result"
    }
   ],
   "source": [
    "Typologiespd=pd.read_csv('NY_final_data_for_typologies_1.19.19.csv')\n",
    "Typologiesgdp = gpd.GeoDataFrame(Typologiespd)\n",
    "len(Typologiesgdp.columns)"
   ]
  },
  {
   "cell_type": "code",
   "execution_count": 144,
   "metadata": {},
   "outputs": [
    {
     "name": "stdout",
     "output_type": "stream",
     "text": [
      "<class 'numpy.float64'>\n"
     ]
    },
    {
     "data": {
      "text/html": [
       "<div>\n",
       "<style scoped>\n",
       "    .dataframe tbody tr th:only-of-type {\n",
       "        vertical-align: middle;\n",
       "    }\n",
       "\n",
       "    .dataframe tbody tr th {\n",
       "        vertical-align: top;\n",
       "    }\n",
       "\n",
       "    .dataframe thead th {\n",
       "        text-align: right;\n",
       "    }\n",
       "</style>\n",
       "<table border=\"1\" class=\"dataframe\">\n",
       "  <thead>\n",
       "    <tr style=\"text-align: right;\">\n",
       "      <th></th>\n",
       "      <th>GEOID</th>\n",
       "      <th>Type_1.19</th>\n",
       "    </tr>\n",
       "  </thead>\n",
       "  <tbody>\n",
       "    <tr>\n",
       "      <th>0</th>\n",
       "      <td>9.001010e+09</td>\n",
       "      <td>VHI - Super Gentrification or Exclusion</td>\n",
       "    </tr>\n",
       "    <tr>\n",
       "      <th>1</th>\n",
       "      <td>9.001010e+09</td>\n",
       "      <td>VHI - Super Gentrification or Exclusion</td>\n",
       "    </tr>\n",
       "    <tr>\n",
       "      <th>2</th>\n",
       "      <td>9.001010e+09</td>\n",
       "      <td>VHI - Super Gentrification or Exclusion</td>\n",
       "    </tr>\n",
       "    <tr>\n",
       "      <th>3</th>\n",
       "      <td>9.001010e+09</td>\n",
       "      <td>VHI - Super Gentrification or Exclusion</td>\n",
       "    </tr>\n",
       "    <tr>\n",
       "      <th>4</th>\n",
       "      <td>9.001010e+09</td>\n",
       "      <td>VHI - Super Gentrification or Exclusion</td>\n",
       "    </tr>\n",
       "  </tbody>\n",
       "</table>\n",
       "</div>"
      ],
      "text/plain": [
       "          GEOID                                Type_1.19\n",
       "0  9.001010e+09  VHI - Super Gentrification or Exclusion\n",
       "1  9.001010e+09  VHI - Super Gentrification or Exclusion\n",
       "2  9.001010e+09  VHI - Super Gentrification or Exclusion\n",
       "3  9.001010e+09  VHI - Super Gentrification or Exclusion\n",
       "4  9.001010e+09  VHI - Super Gentrification or Exclusion"
      ]
     },
     "execution_count": 144,
     "metadata": {},
     "output_type": "execute_result"
    }
   ],
   "source": [
    "Typologiesgdp.rename(columns={'geoid': \"GEOID\"},inplace=True)\n",
    "Typologiesgdp.tail()\n",
    "cols_typ = ['GEOID','Type_1.19']\n",
    "print(type(Typologiesgdp.iloc[:,0][0]))\n",
    "#Typologies.rename(columns={'\\ufeffgeoid': \"GEOID\"},inplace=True)\n",
    "#Typologiesgdp.geoid = Typologies.iloc[:,0]\n",
    "Typologiesgdp = Typologiesgdp.loc[:,cols_typ]\n",
    "Typologiesgdp.head()"
   ]
  },
  {
   "cell_type": "code",
   "execution_count": 145,
   "metadata": {},
   "outputs": [
    {
     "data": {
      "text/html": [
       "<div>\n",
       "<style scoped>\n",
       "    .dataframe tbody tr th:only-of-type {\n",
       "        vertical-align: middle;\n",
       "    }\n",
       "\n",
       "    .dataframe tbody tr th {\n",
       "        vertical-align: top;\n",
       "    }\n",
       "\n",
       "    .dataframe thead th {\n",
       "        text-align: right;\n",
       "    }\n",
       "</style>\n",
       "<table border=\"1\" class=\"dataframe\">\n",
       "  <thead>\n",
       "    <tr style=\"text-align: right;\">\n",
       "      <th></th>\n",
       "      <th>pct_ch_percol00_16_binary</th>\n",
       "      <th>pct_ch_hinc00_16_binary</th>\n",
       "      <th>pct_ch_medhval00_16_binary</th>\n",
       "      <th>pct_ch_medrent00_16_binary</th>\n",
       "      <th>Ongoing_adv_gent</th>\n",
       "      <th>gent00_16</th>\n",
       "      <th>gent90_00</th>\n",
       "      <th>Supergent16</th>\n",
       "      <th>GEOID</th>\n",
       "    </tr>\n",
       "  </thead>\n",
       "  <tbody>\n",
       "    <tr>\n",
       "      <th>0</th>\n",
       "      <td>0.0</td>\n",
       "      <td>0.0</td>\n",
       "      <td>0.0</td>\n",
       "      <td>0.0</td>\n",
       "      <td>0.0</td>\n",
       "      <td>0.0</td>\n",
       "      <td>0.0</td>\n",
       "      <td>0.0</td>\n",
       "      <td>34013021601</td>\n",
       "    </tr>\n",
       "    <tr>\n",
       "      <th>1</th>\n",
       "      <td>0.0</td>\n",
       "      <td>0.0</td>\n",
       "      <td>0.0</td>\n",
       "      <td>0.0</td>\n",
       "      <td>0.0</td>\n",
       "      <td>0.0</td>\n",
       "      <td>0.0</td>\n",
       "      <td>0.0</td>\n",
       "      <td>34003031100</td>\n",
       "    </tr>\n",
       "    <tr>\n",
       "      <th>2</th>\n",
       "      <td>0.0</td>\n",
       "      <td>0.0</td>\n",
       "      <td>0.0</td>\n",
       "      <td>0.0</td>\n",
       "      <td>0.0</td>\n",
       "      <td>0.0</td>\n",
       "      <td>0.0</td>\n",
       "      <td>0.0</td>\n",
       "      <td>34003036200</td>\n",
       "    </tr>\n",
       "    <tr>\n",
       "      <th>3</th>\n",
       "      <td>0.0</td>\n",
       "      <td>0.0</td>\n",
       "      <td>0.0</td>\n",
       "      <td>0.0</td>\n",
       "      <td>0.0</td>\n",
       "      <td>0.0</td>\n",
       "      <td>0.0</td>\n",
       "      <td>0.0</td>\n",
       "      <td>34017003500</td>\n",
       "    </tr>\n",
       "    <tr>\n",
       "      <th>4</th>\n",
       "      <td>0.0</td>\n",
       "      <td>0.0</td>\n",
       "      <td>0.0</td>\n",
       "      <td>0.0</td>\n",
       "      <td>0.0</td>\n",
       "      <td>0.0</td>\n",
       "      <td>0.0</td>\n",
       "      <td>0.0</td>\n",
       "      <td>34017015500</td>\n",
       "    </tr>\n",
       "  </tbody>\n",
       "</table>\n",
       "</div>"
      ],
      "text/plain": [
       "   pct_ch_percol00_16_binary  pct_ch_hinc00_16_binary  \\\n",
       "0                        0.0                      0.0   \n",
       "1                        0.0                      0.0   \n",
       "2                        0.0                      0.0   \n",
       "3                        0.0                      0.0   \n",
       "4                        0.0                      0.0   \n",
       "\n",
       "   pct_ch_medhval00_16_binary  pct_ch_medrent00_16_binary  Ongoing_adv_gent  \\\n",
       "0                         0.0                         0.0               0.0   \n",
       "1                         0.0                         0.0               0.0   \n",
       "2                         0.0                         0.0               0.0   \n",
       "3                         0.0                         0.0               0.0   \n",
       "4                         0.0                         0.0               0.0   \n",
       "\n",
       "   gent00_16  gent90_00  Supergent16        GEOID  \n",
       "0        0.0        0.0          0.0  34013021601  \n",
       "1        0.0        0.0          0.0  34003031100  \n",
       "2        0.0        0.0          0.0  34003036200  \n",
       "3        0.0        0.0          0.0  34017003500  \n",
       "4        0.0        0.0          0.0  34017015500  "
      ]
     },
     "execution_count": 145,
     "metadata": {},
     "output_type": "execute_result"
    }
   ],
   "source": [
    "Binaries=pd.read_csv('./Data/NEW_6_BINARIES_ALL.csv')\n",
    "len(Binaries.columns), Binaries.shape\n",
    "Binaries.drop(columns = 'Unnamed: 0', inplace=True)\n",
    "Binaries.head()"
   ]
  },
  {
   "cell_type": "code",
   "execution_count": 146,
   "metadata": {},
   "outputs": [
    {
     "data": {
      "image/png": "[encoded data removed]",
      "text/plain": [
       "<matplotlib.figure.Figure at 0x7eff4c3336d8>"
      ]
     },
     "metadata": {
      "needs_background": "light"
     },
     "output_type": "display_data"
    }
   ],
   "source": [
    "bin_typs = ['pct_ch_hinc00_16_binary',\n",
    "            'pct_ch_medhval00_16_binary','pct_ch_medrent00_16_binary','pct_ch_percol00_16_binary','Ongoing_adv_gent',\n",
    "            'gent00_16','gent90_00','Supergent16']\n",
    "for i, column in enumerate(bin_typs):\n",
    "    plt.figure(1)\n",
    "    plt.subplot(4,4,i+1)\n",
    "    Binaries[column].value_counts().plot(kind='bar', figsize = (15,15), title=column)\n",
    "    Binaries[column].value_counts()/Binaries[column].value_counts().sum()"
   ]
  },
  {
   "cell_type": "code",
   "execution_count": 147,
   "metadata": {},
   "outputs": [
    {
     "data": {
      "text/plain": [
       "(4829, 10)"
      ]
     },
     "execution_count": 147,
     "metadata": {},
     "output_type": "execute_result"
    }
   ],
   "source": [
    "Typologiesgdp = Typologiesgdp.merge(Binaries, on= 'GEOID')\n",
    "Typologiesgdp.shape"
   ]
  },
  {
   "cell_type": "code",
   "execution_count": 148,
   "metadata": {},
   "outputs": [
    {
     "data": {
      "text/plain": [
       "GEOID                         0\n",
       "Type_1.19                     0\n",
       "pct_ch_percol00_16_binary     0\n",
       "pct_ch_hinc00_16_binary       0\n",
       "pct_ch_medhval00_16_binary    0\n",
       "pct_ch_medrent00_16_binary    0\n",
       "Ongoing_adv_gent              0\n",
       "gent00_16                     0\n",
       "gent90_00                     0\n",
       "Supergent16                   0\n",
       "dtype: int64"
      ]
     },
     "execution_count": 148,
     "metadata": {},
     "output_type": "execute_result"
    }
   ],
   "source": [
    "Typologiesgdp.isnull().sum()\n"
   ]
  },
  {
   "cell_type": "code",
   "execution_count": 149,
   "metadata": {},
   "outputs": [
    {
     "data": {
      "text/html": [
       "<div>\n",
       "<style scoped>\n",
       "    .dataframe tbody tr th:only-of-type {\n",
       "        vertical-align: middle;\n",
       "    }\n",
       "\n",
       "    .dataframe tbody tr th {\n",
       "        vertical-align: top;\n",
       "    }\n",
       "\n",
       "    .dataframe thead th {\n",
       "        text-align: right;\n",
       "    }\n",
       "</style>\n",
       "<table border=\"1\" class=\"dataframe\">\n",
       "  <thead>\n",
       "    <tr style=\"text-align: right;\">\n",
       "      <th></th>\n",
       "      <th>GEOID</th>\n",
       "      <th>geometry</th>\n",
       "      <th>Type_1.19</th>\n",
       "      <th>pct_ch_percol00_16_binary</th>\n",
       "      <th>pct_ch_hinc00_16_binary</th>\n",
       "      <th>pct_ch_medhval00_16_binary</th>\n",
       "      <th>pct_ch_medrent00_16_binary</th>\n",
       "      <th>Ongoing_adv_gent</th>\n",
       "      <th>gent00_16</th>\n",
       "      <th>gent90_00</th>\n",
       "      <th>Supergent16</th>\n",
       "    </tr>\n",
       "  </thead>\n",
       "  <tbody>\n",
       "    <tr>\n",
       "      <th>1891</th>\n",
       "      <td>36061012200</td>\n",
       "      <td>POLYGON ((-8234435.092900001 4978000.478799999...</td>\n",
       "      <td>VHI - Super Gentrification or Exclusion</td>\n",
       "      <td>0.0</td>\n",
       "      <td>0.0</td>\n",
       "      <td>0.0</td>\n",
       "      <td>0.0</td>\n",
       "      <td>0.0</td>\n",
       "      <td>0.0</td>\n",
       "      <td>0.0</td>\n",
       "      <td>0.0</td>\n",
       "    </tr>\n",
       "  </tbody>\n",
       "</table>\n",
       "</div>"
      ],
      "text/plain": [
       "            GEOID                                           geometry  \\\n",
       "1891  36061012200  POLYGON ((-8234435.092900001 4978000.478799999...   \n",
       "\n",
       "                                    Type_1.19  pct_ch_percol00_16_binary  \\\n",
       "1891  VHI - Super Gentrification or Exclusion                        0.0   \n",
       "\n",
       "      pct_ch_hinc00_16_binary  pct_ch_medhval00_16_binary  \\\n",
       "1891                      0.0                         0.0   \n",
       "\n",
       "      pct_ch_medrent00_16_binary  Ongoing_adv_gent  gent00_16  gent90_00  \\\n",
       "1891                         0.0               0.0        0.0        0.0   \n",
       "\n",
       "      Supergent16  \n",
       "1891          0.0  "
      ]
     },
     "execution_count": 149,
     "metadata": {},
     "output_type": "execute_result"
    }
   ],
   "source": [
    "merged = NYCzip.merge(Typologiesgdp,on='GEOID')\n",
    "merged.tail(1)"
   ]
  },
  {
   "cell_type": "code",
   "execution_count": 150,
   "metadata": {},
   "outputs": [
    {
     "name": "stdout",
     "output_type": "stream",
     "text": [
      "<class 'geopandas.geodataframe.GeoDataFrame'> (1892, 11)\n"
     ]
    },
    {
     "data": {
      "text/plain": [
       "(1892, 11)"
      ]
     },
     "execution_count": 150,
     "metadata": {},
     "output_type": "execute_result"
    }
   ],
   "source": [
    "print(type(merged),merged.shape)\n",
    "mergedgpd = gpd.GeoDataFrame(merged)\n",
    "mergedgpd.shape"
   ]
  },
  {
   "cell_type": "markdown",
   "metadata": {},
   "source": [
    "# LOAD FOURSQUARE DATA"
   ]
  },
  {
   "cell_type": "code",
   "execution_count": 151,
   "metadata": {},
   "outputs": [
    {
     "name": "stdout",
     "output_type": "stream",
     "text": [
      "(3009, 2130) Index(['Unnamed: 0', 'Rating', 'Checkins', 'Users', 'Visits', 'Type_ATM',\n",
      "       'Type_Accessories Store', 'Type_Acupuncturist', 'Type_Adult Boutique',\n",
      "       'Type_Adult Education Center',\n",
      "       ...\n",
      "       'Category_Unknown_sum5', 'Category_Unknown_sum10', 'Class__sum5',\n",
      "       'Class__sum10', 'Class_Necessary_sum5', 'Class_Necessary_sum10',\n",
      "       'Class_Optional_sum5', 'Class_Optional_sum10', 'GEOID', 'geometry'],\n",
      "      dtype='object', length=2130)\n"
     ]
    }
   ],
   "source": [
    "# Neighbours\n",
    "X_foursquare_neighbours = pd.read_csv('Improve_Features/X_foursquare-neighbours.csv')\n",
    "print(X_foursquare_neighbours.shape,X_foursquare_neighbours.columns)\n",
    "X_foursquare_neighbours.drop(['Unnamed: 0'],axis =1, inplace=True)\n",
    "cols_neighbours = []\n",
    "for column in X_foursquare_neighbours.columns:\n",
    "    if '_sum10' in column:\n",
    "        cols_neighbours.append(column)\n",
    "cols_neighbours = cols_neighbours + ['GEOID']"
   ]
  },
  {
   "cell_type": "code",
   "execution_count": 152,
   "metadata": {},
   "outputs": [
    {
     "name": "stdout",
     "output_type": "stream",
     "text": [
      "(3009, 724) Index(['GEOID', 'Rating', 'Checkins', 'Users', 'Visits', 'Type_ATM',\n",
      "       'Type_Accessories Store', 'Type_Acupuncturist', 'Type_Adult Boutique',\n",
      "       'Type_Adult Education Center',\n",
      "       ...\n",
      "       'distance_to_Type_Food Truck', 'distance_to_Type_Salad Place',\n",
      "       'distance_to_Type_New American Restaurant',\n",
      "       'distance_to_Type_Gastropub', 'distance_to_Type_Steakhouse',\n",
      "       'distance_to_Type_French Restaurant', 'distance_to_Type_Café',\n",
      "       'distance_to_Type_Wine Bar', 'distance_to_Type_Cocktail Bar',\n",
      "       'distance_to_Type_Beer Garden'],\n",
      "      dtype='object', length=724)\n"
     ]
    },
    {
     "data": {
      "text/plain": [
       "['distance_to_Type_American Restaurant',\n",
       " 'distance_to_Type_Juice Bar',\n",
       " 'distance_to_Type_Coffee Shop',\n",
       " 'distance_to_Type_Deli / Bodega',\n",
       " 'distance_to_Type_Food Truck',\n",
       " 'distance_to_Type_Salad Place',\n",
       " 'distance_to_Type_New American Restaurant',\n",
       " 'distance_to_Type_Gastropub',\n",
       " 'distance_to_Type_Steakhouse',\n",
       " 'distance_to_Type_French Restaurant',\n",
       " 'distance_to_Type_Café',\n",
       " 'distance_to_Type_Wine Bar',\n",
       " 'distance_to_Type_Cocktail Bar',\n",
       " 'distance_to_Type_Beer Garden',\n",
       " 'GEOID']"
      ]
     },
     "execution_count": 152,
     "metadata": {},
     "output_type": "execute_result"
    }
   ],
   "source": [
    "# Distances\n",
    "X_foursquare_high = pd.read_csv('Improve_Features/X_foursquare-distances_high.csv')\n",
    "\n",
    "print(X_foursquare_high.shape,X_foursquare_high.columns)\n",
    "cols_high = []\n",
    "for column in X_foursquare_high.columns:\n",
    "    if 'distance' in column:\n",
    "        cols_high.append(column)\n",
    "cols_high = cols_high + ['GEOID']\n",
    "cols_high"
   ]
  },
  {
   "cell_type": "code",
   "execution_count": 153,
   "metadata": {},
   "outputs": [
    {
     "name": "stdout",
     "output_type": "stream",
     "text": [
      "(3009, 720) Index(['GEOID', 'Rating', 'Checkins', 'Users', 'Visits', 'Type_ATM',\n",
      "       'Type_Accessories Store', 'Type_Acupuncturist', 'Type_Adult Boutique',\n",
      "       'Type_Adult Education Center',\n",
      "       ...\n",
      "       'Typologies', 'geometry', 'distance_to_Type_Latin American Restaurant',\n",
      "       'distance_to_Type_Bar', 'distance_to_Type_Donut Shop',\n",
      "       'distance_to_Type_Taco Place', 'distance_to_Type_Fast Food Restaurant',\n",
      "       'distance_to_Type_Spanish Restaurant',\n",
      "       'distance_to_Type_Fried Chicken Joint',\n",
      "       'distance_to_Type_Caribbean Restaurant'],\n",
      "      dtype='object', length=720)\n"
     ]
    },
    {
     "data": {
      "text/plain": [
       "['distance_to_Type_Latin American Restaurant',\n",
       " 'distance_to_Type_Bar',\n",
       " 'distance_to_Type_Donut Shop',\n",
       " 'distance_to_Type_Taco Place',\n",
       " 'distance_to_Type_Fast Food Restaurant',\n",
       " 'distance_to_Type_Spanish Restaurant',\n",
       " 'distance_to_Type_Fried Chicken Joint',\n",
       " 'distance_to_Type_Caribbean Restaurant',\n",
       " 'GEOID']"
      ]
     },
     "execution_count": 153,
     "metadata": {},
     "output_type": "execute_result"
    }
   ],
   "source": [
    "X_foursquare_low = pd.read_csv('Improve_Features/X_foursquare-distances_low.csv')\n",
    "print(X_foursquare_low.shape,X_foursquare_low.columns)\n",
    "cols_low = []\n",
    "for column in X_foursquare_low.columns:\n",
    "    if 'distance' in column:\n",
    "        cols_low.append(column)\n",
    "cols_low = cols_low + ['GEOID']\n",
    "cols_low"
   ]
  },
  {
   "cell_type": "code",
   "execution_count": 154,
   "metadata": {},
   "outputs": [
    {
     "name": "stdout",
     "output_type": "stream",
     "text": [
      "(3009, 716) Index(['GEOID', 'Rating', 'Checkins', 'Users', 'Visits', 'Type_ATM',\n",
      "       'Type_Accessories Store', 'Type_Acupuncturist', 'Type_Adult Boutique',\n",
      "       'Type_Adult Education Center',\n",
      "       ...\n",
      "       'Category_Unknown', 'Class_', 'Class_Necessary', 'Class_Optional',\n",
      "       'Typologies', 'geometry', 'distance_to_Rating', 'distance_to_Checkins',\n",
      "       'distance_to_Users', 'distance_to_Visits'],\n",
      "      dtype='object', length=716)\n",
      "(3009, 723) Index(['GEOID', 'Rating', 'Checkins', 'Users', 'Visits', 'Type_ATM',\n",
      "       'Type_Accessories Store', 'Type_Acupuncturist', 'Type_Adult Boutique',\n",
      "       'Type_Adult Education Center',\n",
      "       ...\n",
      "       'distance_to_Category_Consumption', 'distance_to_Category_Education',\n",
      "       'distance_to_Category_Income', 'distance_to_Category_Leisure',\n",
      "       'distance_to_Category_Mobility', 'distance_to_Category_Nutrition',\n",
      "       'distance_to_Category_Personal care', 'distance_to_Category_Social',\n",
      "       'distance_to_Category_Taking care', 'distance_to_Category_Unknown'],\n",
      "      dtype='object', length=723)\n",
      "(3009, 715) Index(['GEOID', 'Rating', 'Checkins', 'Users', 'Visits', 'Type_ATM',\n",
      "       'Type_Accessories Store', 'Type_Acupuncturist', 'Type_Adult Boutique',\n",
      "       'Type_Adult Education Center',\n",
      "       ...\n",
      "       'distance_to_Category_Consumption', 'distance_to_Category_Education',\n",
      "       'distance_to_Category_Income', 'distance_to_Category_Leisure',\n",
      "       'distance_to_Category_Mobility', 'distance_to_Category_Nutrition',\n",
      "       'distance_to_Category_Personal care', 'distance_to_Category_Social',\n",
      "       'distance_to_Category_Taking care', 'distance_to_Category_Unknown'],\n",
      "      dtype='object', length=723)\n"
     ]
    },
    {
     "data": {
      "text/plain": [
       "['distance_to_Class_',\n",
       " 'distance_to_Class_Necessary',\n",
       " 'distance_to_Class_Optional',\n",
       " 'GEOID']"
      ]
     },
     "execution_count": 154,
     "metadata": {},
     "output_type": "execute_result"
    }
   ],
   "source": [
    "# Distances- numeric \n",
    "X_foursquare_numeric = pd.read_csv('Improve_Features/X_foursquare-distances_numeric.csv')\n",
    "print(X_foursquare_numeric.shape,X_foursquare_numeric.columns)\n",
    "cols_numeric = []\n",
    "for column in X_foursquare_numeric.columns:\n",
    "    if 'distance' in column:\n",
    "        cols_numeric.append(column)\n",
    "cols_numeric = cols_numeric + ['GEOID']\n",
    "cols_numeric\n",
    "# Distances- cats \n",
    "X_foursquare_cats1 = pd.read_csv('Improve_Features/X_foursquare-distances_cats.csv')\n",
    "print(X_foursquare_cats1.shape,X_foursquare_cats1.columns)\n",
    "cols_cats1 = []\n",
    "for column in X_foursquare_cats1.columns:\n",
    "    if 'distance' in column:\n",
    "        cols_cats1.append(column)\n",
    "cols_cats1 = cols_cats1 + ['GEOID']\n",
    "cols_cats1\n",
    "# Distances- class\n",
    "X_foursquare_class = pd.read_csv('Improve_Features/X_foursquare-distances_class.csv')\n",
    "print(X_foursquare_class.shape,X_foursquare_cats1.columns)\n",
    "cols_class = []\n",
    "for column in X_foursquare_class.columns:\n",
    "    if 'distance' in column:\n",
    "        cols_class.append(column)\n",
    "cols_class = cols_class + ['GEOID']\n",
    "cols_class"
   ]
  },
  {
   "cell_type": "code",
   "execution_count": 155,
   "metadata": {},
   "outputs": [],
   "source": [
    "X_foursquare_neighbours = X_foursquare_neighbours.loc[:,cols_neighbours]\n",
    "X_foursquare_high = X_foursquare_high.loc[:,cols_high]\n",
    "X_foursquare_class = X_foursquare_class.loc[:,cols_class]\n",
    "X_foursquare_cats1 = X_foursquare_cats1.loc[:,cols_cats1]\n",
    "X_foursquare_numeric = X_foursquare_numeric.loc[:,cols_numeric]\n",
    "X_foursquare_low = X_foursquare_low.loc[:,cols_low]\n",
    "# X_foursquare_person = X_foursquare_person.loc[:,cols_person]\n",
    "# X_foursquare_income = X_foursquare_income.loc[:,cols_income]"
   ]
  },
  {
   "cell_type": "code",
   "execution_count": 156,
   "metadata": {},
   "outputs": [
    {
     "name": "stdout",
     "output_type": "stream",
     "text": [
      "(3009, 15)\n"
     ]
    }
   ],
   "source": [
    "# X_foursquare_low.shape, X_foursquare_person.shape\n",
    "print(X_foursquare_high.shape)"
   ]
  },
  {
   "cell_type": "code",
   "execution_count": 157,
   "metadata": {},
   "outputs": [
    {
     "name": "stdout",
     "output_type": "stream",
     "text": [
      "(3009, 711)\n",
      "(3009, 711) Index(['GEOID', 'Rating', 'Checkins', 'Users', 'Visits', 'Type_ATM',\n",
      "       'Type_Accessories Store', 'Type_Acupuncturist', 'Type_Adult Boutique',\n",
      "       'Type_Adult Education Center',\n",
      "       ...\n",
      "       'Category_Mobility', 'Category_Nutrition', 'Category_Personal care',\n",
      "       'Category_Social', 'Category_Taking care', 'Category_Unknown', 'Class_',\n",
      "       'Class_Necessary', 'Class_Optional', 'geometry'],\n",
      "      dtype='object', length=711)\n"
     ]
    },
    {
     "data": {
      "text/plain": [
       "['GEOID',\n",
       " 'Rating',\n",
       " 'Checkins',\n",
       " 'Users',\n",
       " 'Visits',\n",
       " 'Category_Civic',\n",
       " 'Category_Consumption',\n",
       " 'Category_Education',\n",
       " 'Category_Income',\n",
       " 'Category_Leisure',\n",
       " 'Category_Mobility',\n",
       " 'Category_Nutrition',\n",
       " 'Category_Personal care',\n",
       " 'Category_Social',\n",
       " 'Category_Taking care',\n",
       " 'Category_Unknown',\n",
       " 'Class_',\n",
       " 'Class_Necessary',\n",
       " 'Class_Optional']"
      ]
     },
     "execution_count": 157,
     "metadata": {},
     "output_type": "execute_result"
    }
   ],
   "source": [
    "X_foursquare_data_sjoined = pd.read_csv('./Data/data_sjoined_sum_merged.csv')\n",
    "X_foursquare_data_sjoined.drop(columns=['Unnamed: 0','Typologies'],inplace=True)\n",
    "print(X_foursquare_data_sjoined.shape)\n",
    "print(X_foursquare_data_sjoined.shape,X_foursquare_data_sjoined.columns)\n",
    "cols_datasjoined = []\n",
    "for column in X_foursquare_data_sjoined.drop(columns=['geometry']).columns:\n",
    "    if 'Type' not in column:\n",
    "        cols_datasjoined.append(column)\n",
    "cols_datasjoined = cols_datasjoined\n",
    "cols_datasjoined"
   ]
  },
  {
   "cell_type": "code",
   "execution_count": 158,
   "metadata": {},
   "outputs": [],
   "source": [
    "X_foursquare_data_sjoined_all = X_foursquare_data_sjoined.drop(columns=['geometry'])"
   ]
  },
  {
   "cell_type": "code",
   "execution_count": 159,
   "metadata": {},
   "outputs": [
    {
     "data": {
      "text/html": [
       "<div>\n",
       "<style scoped>\n",
       "    .dataframe tbody tr th:only-of-type {\n",
       "        vertical-align: middle;\n",
       "    }\n",
       "\n",
       "    .dataframe tbody tr th {\n",
       "        vertical-align: top;\n",
       "    }\n",
       "\n",
       "    .dataframe thead th {\n",
       "        text-align: right;\n",
       "    }\n",
       "</style>\n",
       "<table border=\"1\" class=\"dataframe\">\n",
       "  <thead>\n",
       "    <tr style=\"text-align: right;\">\n",
       "      <th></th>\n",
       "      <th>GEOID</th>\n",
       "      <th>Rating</th>\n",
       "      <th>Checkins</th>\n",
       "      <th>Users</th>\n",
       "      <th>Visits</th>\n",
       "      <th>Category_Civic</th>\n",
       "      <th>Category_Consumption</th>\n",
       "      <th>Category_Education</th>\n",
       "      <th>Category_Income</th>\n",
       "      <th>Category_Leisure</th>\n",
       "      <th>Category_Mobility</th>\n",
       "      <th>Category_Nutrition</th>\n",
       "      <th>Category_Personal care</th>\n",
       "      <th>Category_Social</th>\n",
       "      <th>Category_Taking care</th>\n",
       "      <th>Category_Unknown</th>\n",
       "      <th>Class_</th>\n",
       "      <th>Class_Necessary</th>\n",
       "      <th>Class_Optional</th>\n",
       "    </tr>\n",
       "  </thead>\n",
       "  <tbody>\n",
       "    <tr>\n",
       "      <th>0</th>\n",
       "      <td>34003003200</td>\n",
       "      <td>20.0</td>\n",
       "      <td>6591</td>\n",
       "      <td>2767</td>\n",
       "      <td>10611</td>\n",
       "      <td>3.0</td>\n",
       "      <td>7.0</td>\n",
       "      <td>1.0</td>\n",
       "      <td>1.0</td>\n",
       "      <td>1.0</td>\n",
       "      <td>0.0</td>\n",
       "      <td>1.0</td>\n",
       "      <td>1.0</td>\n",
       "      <td>0.0</td>\n",
       "      <td>1.0</td>\n",
       "      <td>3.0</td>\n",
       "      <td>3.0</td>\n",
       "      <td>4.0</td>\n",
       "      <td>12.0</td>\n",
       "    </tr>\n",
       "  </tbody>\n",
       "</table>\n",
       "</div>"
      ],
      "text/plain": [
       "         GEOID  Rating  Checkins  Users  Visits  Category_Civic  \\\n",
       "0  34003003200    20.0      6591   2767   10611             3.0   \n",
       "\n",
       "   Category_Consumption  Category_Education  Category_Income  \\\n",
       "0                   7.0                 1.0              1.0   \n",
       "\n",
       "   Category_Leisure  Category_Mobility  Category_Nutrition  \\\n",
       "0               1.0                0.0                 1.0   \n",
       "\n",
       "   Category_Personal care  Category_Social  Category_Taking care  \\\n",
       "0                     1.0              0.0                   1.0   \n",
       "\n",
       "   Category_Unknown  Class_  Class_Necessary  Class_Optional  \n",
       "0               3.0     3.0              4.0            12.0  "
      ]
     },
     "execution_count": 159,
     "metadata": {},
     "output_type": "execute_result"
    }
   ],
   "source": [
    "# X_foursquare_data_sjoined_pca = X_foursquare_data_sjoined.drop(columns=['geometry']).iloc[:,7:698]\n",
    "\n",
    "X_foursquare_data_sjoined_non_type = X_foursquare_data_sjoined.loc[:,cols_datasjoined]\n",
    "X_foursquare_data_sjoined_non_type.head(1)"
   ]
  },
  {
   "cell_type": "code",
   "execution_count": 160,
   "metadata": {},
   "outputs": [],
   "source": [
    "# X_foursquare_data_sjoined_other1 = X_foursquare_data_sjoined.drop(columns=['geometry']).iloc[:,698:]\n",
    "# X_foursquare_data_sjoined_other1.head(1)"
   ]
  },
  {
   "cell_type": "code",
   "execution_count": 161,
   "metadata": {},
   "outputs": [],
   "source": [
    "# X_foursquare_data_sjoined_other2 = X_foursquare_data_sjoined.drop(columns=['geometry']).iloc[:,:7]\n",
    "# X_foursquare_data_sjoined_other2.head(1)"
   ]
  },
  {
   "cell_type": "markdown",
   "metadata": {},
   "source": [
    "# LOAD TWITTER DATA"
   ]
  },
  {
   "cell_type": "code",
   "execution_count": 162,
   "metadata": {},
   "outputs": [
    {
     "name": "stdout",
     "output_type": "stream",
     "text": [
      "(3105, 56)\n",
      "twittercols------------------------------\n",
      "['GEOID', 'total_tweets', 'userwith5_count', 'total_users', 'Monday_oddratio', 'Tuesday_oddratio', 'Wednesday_oddratio', 'Thursday_oddratio', 'Friday_oddratio', 'Saturday_oddratio', 'Sunday_oddratio', 'weekend_oddratio', 'weekday_oddratio', 'nighttime_oddratio', 'daytime_oddratio', 'local_tweets', 'local_weekend_oddratio', 'local_weekday_oddratio', 'local_nighttime_oddratio', 'local_daytime_oddratio', 'neighbor_tweets', 'neighbor_weekend_oddratio', 'neighbor_weekday_oddratio', 'neighbor_nighttime_oddratio', 'neighbor_daytime_oddratio', 'other_weekday_oddratio', 'other_weekend_oddratio', 'other_daytime_oddratio', 'other_nighttime_oddratio', 'other_tweets', 'localpercentage', 'nbrpercentage', 'visitorpercentage', 'distToHighVisitorTract', 'distToHighTweetTract', 'distToMHI']\n",
      "alltwitterandcensusdata------------------------------\n",
      "['GEOID', 'total_tweets', 'userwith5_count', 'total_users', 'Monday_oddratio', 'Tuesday_oddratio', 'Wednesday_oddratio', 'Thursday_oddratio', 'Friday_oddratio', 'Saturday_oddratio', 'Sunday_oddratio', 'weekend_oddratio', 'weekday_oddratio', 'nighttime_oddratio', 'daytime_oddratio', 'local_tweets', 'local_weekend_oddratio', 'local_weekday_oddratio', 'local_nighttime_oddratio', 'local_daytime_oddratio', 'neighbor_tweets', 'neighbor_weekend_oddratio', 'neighbor_weekday_oddratio', 'neighbor_nighttime_oddratio', 'neighbor_daytime_oddratio', 'other_weekday_oddratio', 'other_weekend_oddratio', 'other_daytime_oddratio', 'other_nighttime_oddratio', 'other_tweets', 'localpercentage', 'nbrpercentage', 'visitorpercentage', 'medrent00', 'medhval00', 'percol00', 'per_rent_00', 'pernwh00', 'hinc00', 'distToHighVisitorTract', 'distToHighTweetTract', 'distToMHI', 'pop00_y', 'phisp00', 'pnhblk00', 'pasian00', 'popden00', 'unempden00', 'pag25up00', 'Type_binary', 'pct_ch_hinc00_16_binary', 'pct_ch_percol00_16_binary', 'pct_ch_medhval00_16_binary', 'pct_ch_medrent00_16_binary', 'gent00_16_y', 'Supergent16']\n"
     ]
    }
   ],
   "source": [
    "# alltwitterandcensusdata.csv\n",
    "alltwitterandcensusdata = pd.read_csv('Data/alltwitterandcensusdata.csv')\n",
    "alltwitterandcensusdata.rename(columns={'geojoin': \"GEOID\"},inplace=True)\n",
    "alltwitterandcensusdata.drop(columns='Unnamed: 0',inplace=True)\n",
    "print(alltwitterandcensusdata.shape)\n",
    "twittercols = list(alltwitterandcensusdata.columns[:-23])+['distToHighVisitorTract',\\\n",
    "                                                     'distToHighTweetTract','distToMHI']\n",
    "print('twittercols------------------------------')\n",
    "print(list(twittercols))\n",
    "print('alltwitterandcensusdata------------------------------')\n",
    "print(list(alltwitterandcensusdata.columns))\n",
    "twitterdata  = alltwitterandcensusdata.loc[:,twittercols]"
   ]
  },
  {
   "cell_type": "markdown",
   "metadata": {},
   "source": [
    "# LOAD CENSUS DATA"
   ]
  },
  {
   "cell_type": "code",
   "execution_count": 163,
   "metadata": {},
   "outputs": [
    {
     "data": {
      "text/html": [
       "<div>\n",
       "<style scoped>\n",
       "    .dataframe tbody tr th:only-of-type {\n",
       "        vertical-align: middle;\n",
       "    }\n",
       "\n",
       "    .dataframe tbody tr th {\n",
       "        vertical-align: top;\n",
       "    }\n",
       "\n",
       "    .dataframe thead th {\n",
       "        text-align: right;\n",
       "    }\n",
       "</style>\n",
       "<table border=\"1\" class=\"dataframe\">\n",
       "  <thead>\n",
       "    <tr style=\"text-align: right;\">\n",
       "      <th></th>\n",
       "      <th>GEOID</th>\n",
       "      <th>TOD</th>\n",
       "    </tr>\n",
       "  </thead>\n",
       "  <tbody>\n",
       "    <tr>\n",
       "      <th>0</th>\n",
       "      <td>09001010101</td>\n",
       "      <td>0.0</td>\n",
       "    </tr>\n",
       "    <tr>\n",
       "      <th>1</th>\n",
       "      <td>09001010102</td>\n",
       "      <td>0.0</td>\n",
       "    </tr>\n",
       "  </tbody>\n",
       "</table>\n",
       "</div>"
      ],
      "text/plain": [
       "         GEOID  TOD\n",
       "0  09001010101  0.0\n",
       "1  09001010102  0.0"
      ]
     },
     "execution_count": 163,
     "metadata": {},
     "output_type": "execute_result"
    }
   ],
   "source": [
    "Censuspd_TOD = pd.read_stata('Data/UDP_NYC_Variables.dta')\n",
    "Censuspd_TOD.rename(columns={'GEOid2': \"GEOID\"},inplace=True)\n",
    "Censuspd_TOD = Censuspd_TOD.loc[:,['GEOID','TOD']]\n",
    "Censuspd_TOD.head(2)"
   ]
  },
  {
   "cell_type": "code",
   "execution_count": 164,
   "metadata": {},
   "outputs": [
    {
     "name": "stdout",
     "output_type": "stream",
     "text": [
      "['medrent00', 'medhval00', 'percol00', 'per_rent_00', 'pernwh00', 'hinc00', 'TOD', 'carcommuters_00']\n"
     ]
    },
    {
     "data": {
      "text/html": [
       "<div>\n",
       "<style scoped>\n",
       "    .dataframe tbody tr th:only-of-type {\n",
       "        vertical-align: middle;\n",
       "    }\n",
       "\n",
       "    .dataframe tbody tr th {\n",
       "        vertical-align: top;\n",
       "    }\n",
       "\n",
       "    .dataframe thead th {\n",
       "        text-align: right;\n",
       "    }\n",
       "</style>\n",
       "<table border=\"1\" class=\"dataframe\">\n",
       "  <thead>\n",
       "    <tr style=\"text-align: right;\">\n",
       "      <th></th>\n",
       "      <th>medrent00</th>\n",
       "      <th>medhval00</th>\n",
       "      <th>percol00</th>\n",
       "      <th>per_rent_00</th>\n",
       "      <th>pernwh00</th>\n",
       "      <th>hinc00</th>\n",
       "      <th>TOD</th>\n",
       "      <th>carcommuters_00</th>\n",
       "    </tr>\n",
       "  </thead>\n",
       "  <tbody>\n",
       "    <tr>\n",
       "      <th>0</th>\n",
       "      <td>988.0</td>\n",
       "      <td>273900.0</td>\n",
       "      <td>0.231504</td>\n",
       "      <td>0.066202</td>\n",
       "      <td>0.072632</td>\n",
       "      <td>120523.998898</td>\n",
       "      <td>0.0</td>\n",
       "      <td>0.875731</td>\n",
       "    </tr>\n",
       "    <tr>\n",
       "      <th>1</th>\n",
       "      <td>808.0</td>\n",
       "      <td>192600.0</td>\n",
       "      <td>0.155385</td>\n",
       "      <td>0.439133</td>\n",
       "      <td>0.212597</td>\n",
       "      <td>72720.400000</td>\n",
       "      <td>1.0</td>\n",
       "      <td>0.736007</td>\n",
       "    </tr>\n",
       "  </tbody>\n",
       "</table>\n",
       "</div>"
      ],
      "text/plain": [
       "   medrent00  medhval00  percol00  per_rent_00  pernwh00         hinc00  TOD  \\\n",
       "0      988.0   273900.0  0.231504     0.066202  0.072632  120523.998898  0.0   \n",
       "1      808.0   192600.0  0.155385     0.439133  0.212597   72720.400000  1.0   \n",
       "\n",
       "   carcommuters_00  \n",
       "0         0.875731  \n",
       "1         0.736007  "
      ]
     },
     "execution_count": 164,
     "metadata": {},
     "output_type": "execute_result"
    }
   ],
   "source": [
    "# NO GEOID\n",
    "Census_data_original_NOGEOID = pd.read_csv('./Data/originalcensusfeatures.csv')\n",
    "Census_data_original_NOGEOID.drop(columns='Unnamed: 0',inplace=True)\n",
    "cols_orig = list(Census_data_original_NOGEOID.columns)\n",
    "print(cols_orig)\n",
    "Census_data_original_NOGEOID.head(2)"
   ]
  },
  {
   "cell_type": "code",
   "execution_count": 165,
   "metadata": {},
   "outputs": [
    {
     "data": {
      "text/html": [
       "<div>\n",
       "<style scoped>\n",
       "    .dataframe tbody tr th:only-of-type {\n",
       "        vertical-align: middle;\n",
       "    }\n",
       "\n",
       "    .dataframe tbody tr th {\n",
       "        vertical-align: top;\n",
       "    }\n",
       "\n",
       "    .dataframe thead th {\n",
       "        text-align: right;\n",
       "    }\n",
       "</style>\n",
       "<table border=\"1\" class=\"dataframe\">\n",
       "  <thead>\n",
       "    <tr style=\"text-align: right;\">\n",
       "      <th></th>\n",
       "      <th>medrent00</th>\n",
       "      <th>medhval00</th>\n",
       "      <th>percol00</th>\n",
       "      <th>per_rent_00</th>\n",
       "      <th>pernwh00</th>\n",
       "      <th>hinc00</th>\n",
       "      <th>carcommuters_00</th>\n",
       "      <th>GEOID</th>\n",
       "    </tr>\n",
       "  </thead>\n",
       "  <tbody>\n",
       "    <tr>\n",
       "      <th>0</th>\n",
       "      <td>1601.0</td>\n",
       "      <td>1000001.0</td>\n",
       "      <td>0.354071</td>\n",
       "      <td>0.128119</td>\n",
       "      <td>0.066080</td>\n",
       "      <td>273976.05</td>\n",
       "      <td>0.698276</td>\n",
       "      <td>9.001010e+09</td>\n",
       "    </tr>\n",
       "    <tr>\n",
       "      <th>1</th>\n",
       "      <td>1244.0</td>\n",
       "      <td>1000000.0</td>\n",
       "      <td>0.748477</td>\n",
       "      <td>0.108108</td>\n",
       "      <td>0.098972</td>\n",
       "      <td>290000.00</td>\n",
       "      <td>0.000000</td>\n",
       "      <td>9.001010e+09</td>\n",
       "    </tr>\n",
       "  </tbody>\n",
       "</table>\n",
       "</div>"
      ],
      "text/plain": [
       "   medrent00  medhval00  percol00  per_rent_00  pernwh00     hinc00  \\\n",
       "0     1601.0  1000001.0  0.354071     0.128119  0.066080  273976.05   \n",
       "1     1244.0  1000000.0  0.748477     0.108108  0.098972  290000.00   \n",
       "\n",
       "   carcommuters_00         GEOID  \n",
       "0         0.698276  9.001010e+09  \n",
       "1         0.000000  9.001010e+09  "
      ]
     },
     "execution_count": 165,
     "metadata": {},
     "output_type": "execute_result"
    }
   ],
   "source": [
    "cols_orig_noTOD = ['medrent00', 'medhval00', 'percol00', 'per_rent_00', 'pernwh00', 'hinc00', 'carcommuters_00']\n",
    "Census_data_original=pd.read_csv('NY_final_data_for_typologies_1.19.19.csv')\n",
    "Census_data_original.rename(columns={'geoid': \"GEOID\"},inplace=True)\n",
    "Census_data_original = Census_data_original.loc[:,cols_orig_noTOD+['GEOID']]\n",
    "Census_data_original.loc[:,cols_orig_noTOD+['GEOID']].head(2)"
   ]
  },
  {
   "cell_type": "code",
   "execution_count": 166,
   "metadata": {},
   "outputs": [
    {
     "data": {
      "text/html": [
       "<div>\n",
       "<style scoped>\n",
       "    .dataframe tbody tr th:only-of-type {\n",
       "        vertical-align: middle;\n",
       "    }\n",
       "\n",
       "    .dataframe tbody tr th {\n",
       "        vertical-align: top;\n",
       "    }\n",
       "\n",
       "    .dataframe thead th {\n",
       "        text-align: right;\n",
       "    }\n",
       "</style>\n",
       "<table border=\"1\" class=\"dataframe\">\n",
       "  <thead>\n",
       "    <tr style=\"text-align: right;\">\n",
       "      <th></th>\n",
       "      <th>GEOID</th>\n",
       "      <th>pop00</th>\n",
       "      <th>phisp00</th>\n",
       "      <th>pnhblk00</th>\n",
       "      <th>pasian00</th>\n",
       "      <th>popden00</th>\n",
       "      <th>unempden00</th>\n",
       "      <th>pag25up00</th>\n",
       "    </tr>\n",
       "  </thead>\n",
       "  <tbody>\n",
       "    <tr>\n",
       "      <th>0</th>\n",
       "      <td>34003001000</td>\n",
       "      <td>6683.181012</td>\n",
       "      <td>0.025387</td>\n",
       "      <td>0.004034</td>\n",
       "      <td>0.065236</td>\n",
       "      <td>7.729906e+06</td>\n",
       "      <td>96913.273415</td>\n",
       "      <td>0.653295</td>\n",
       "    </tr>\n",
       "    <tr>\n",
       "      <th>1</th>\n",
       "      <td>34003002100</td>\n",
       "      <td>2183.000000</td>\n",
       "      <td>0.025195</td>\n",
       "      <td>0.016949</td>\n",
       "      <td>0.199267</td>\n",
       "      <td>1.230491e+06</td>\n",
       "      <td>15219.084062</td>\n",
       "      <td>0.700870</td>\n",
       "    </tr>\n",
       "  </tbody>\n",
       "</table>\n",
       "</div>"
      ],
      "text/plain": [
       "         GEOID        pop00   phisp00  pnhblk00  pasian00      popden00  \\\n",
       "0  34003001000  6683.181012  0.025387  0.004034  0.065236  7.729906e+06   \n",
       "1  34003002100  2183.000000  0.025195  0.016949  0.199267  1.230491e+06   \n",
       "\n",
       "     unempden00  pag25up00  \n",
       "0  96913.273415   0.653295  \n",
       "1  15219.084062   0.700870  "
      ]
     },
     "execution_count": 166,
     "metadata": {},
     "output_type": "execute_result"
    }
   ],
   "source": [
    "Census_data_new = pd.read_csv('./Data/newcensusfeatures.csv')\n",
    "Census_data_new.rename(columns={'geoid': \"GEOID\"},inplace=True)\n",
    "Census_data_new.drop(columns=['geojoin','Unnamed: 0'],inplace=True)\n",
    "Census_data_new.head(2)"
   ]
  },
  {
   "cell_type": "code",
   "execution_count": 167,
   "metadata": {},
   "outputs": [],
   "source": []
  },
  {
   "cell_type": "code",
   "execution_count": 168,
   "metadata": {},
   "outputs": [
    {
     "data": {
      "text/html": [
       "<div>\n",
       "<style scoped>\n",
       "    .dataframe tbody tr th:only-of-type {\n",
       "        vertical-align: middle;\n",
       "    }\n",
       "\n",
       "    .dataframe tbody tr th {\n",
       "        vertical-align: top;\n",
       "    }\n",
       "\n",
       "    .dataframe thead th {\n",
       "        text-align: right;\n",
       "    }\n",
       "</style>\n",
       "<table border=\"1\" class=\"dataframe\">\n",
       "  <thead>\n",
       "    <tr style=\"text-align: right;\">\n",
       "      <th></th>\n",
       "      <th>GEOID</th>\n",
       "      <th>commercial_pct</th>\n",
       "    </tr>\n",
       "  </thead>\n",
       "  <tbody>\n",
       "    <tr>\n",
       "      <th>0</th>\n",
       "      <td>36005000100</td>\n",
       "      <td>0.000000</td>\n",
       "    </tr>\n",
       "    <tr>\n",
       "      <th>1</th>\n",
       "      <td>36005000200</td>\n",
       "      <td>0.047414</td>\n",
       "    </tr>\n",
       "  </tbody>\n",
       "</table>\n",
       "</div>"
      ],
      "text/plain": [
       "         GEOID  commercial_pct\n",
       "0  36005000100        0.000000\n",
       "1  36005000200        0.047414"
      ]
     },
     "execution_count": 168,
     "metadata": {},
     "output_type": "execute_result"
    }
   ],
   "source": [
    "Census_commercial = pd.read_csv('./Data/NYC/commercial_pct.csv')\n",
    "Census_commercial.rename(columns={'geoid': \"GEOID\"},inplace=True)\n",
    "Census_commercial.drop(columns=['Unnamed: 0'],inplace=True)\n",
    "Census_commercial.head(2)"
   ]
  },
  {
   "cell_type": "code",
   "execution_count": 202,
   "metadata": {},
   "outputs": [
    {
     "name": "stderr",
     "output_type": "stream",
     "text": [
      "/usr/local/Anaconda3-5.0.0-Linux-x86_64/envs/ADS/lib/python3.5/site-packages/IPython/core/interactiveshell.py:2785: DtypeWarning: Columns (1,3,4,5,10,11,12,17,18,19,24,25,26,31,32,33,38,39,40,45,46,47,52,53,54,59,60,61,66,67,68,73,74,75,80,81,82,87,88,89,94,95,96,101,102,103,108,109,110,115,116,117,122,123,124,129,130,131,136,137,138,143,144,145,150,151,152,157,158,159,164,165,166,171,172,173,178,179,180,185,186,187,192,193,194,199,200,201,206,207,208,213,214,215,220,221,222,227,228,229,234,235,236,241,242,243,248,249,250,255,256,257,262,263,264,269,270,271,276,277,278,283,284,285) have mixed types. Specify dtype option on import or set low_memory=False.\n",
      "  interactivity=interactivity, compiler=compiler, result=result)\n"
     ]
    },
    {
     "name": "stdout",
     "output_type": "stream",
     "text": [
      "(4598, 290)\n",
      "(4597, 284)\n",
      "GEOID\n",
      "SUBHD0101_S01\n"
     ]
    },
    {
     "ename": "ValueError",
     "evalue": "invalid literal for int() with base 10: '4427(r46992)'",
     "output_type": "error",
     "traceback": [
      "\u001b[0;31m---------------------------------------------------------------------------\u001b[0m",
      "\u001b[0;31mValueError\u001b[0m                                Traceback (most recent call last)",
      "\u001b[0;32m<ipython-input-202-d77015304641>\u001b[0m in \u001b[0;36m<module>\u001b[0;34m()\u001b[0m\n\u001b[1;32m      7\u001b[0m \u001b[0;32mfor\u001b[0m \u001b[0mi\u001b[0m \u001b[0;32min\u001b[0m \u001b[0mCensus_ages\u001b[0m\u001b[0;34m.\u001b[0m\u001b[0mcolumns\u001b[0m\u001b[0;34m:\u001b[0m\u001b[0;34m\u001b[0m\u001b[0m\n\u001b[1;32m      8\u001b[0m     \u001b[0mprint\u001b[0m\u001b[0;34m(\u001b[0m\u001b[0mi\u001b[0m\u001b[0;34m)\u001b[0m\u001b[0;34m\u001b[0m\u001b[0m\n\u001b[0;32m----> 9\u001b[0;31m     \u001b[0mCensus_ages\u001b[0m\u001b[0;34m[\u001b[0m\u001b[0mi\u001b[0m\u001b[0;34m]\u001b[0m \u001b[0;34m=\u001b[0m \u001b[0mpd\u001b[0m\u001b[0;34m.\u001b[0m\u001b[0mto_numeric\u001b[0m\u001b[0;34m(\u001b[0m\u001b[0mCensus_ages\u001b[0m\u001b[0;34m[\u001b[0m\u001b[0mi\u001b[0m\u001b[0;34m]\u001b[0m\u001b[0;34m.\u001b[0m\u001b[0mastype\u001b[0m\u001b[0;34m(\u001b[0m\u001b[0mint\u001b[0m\u001b[0;34m)\u001b[0m\u001b[0;34m)\u001b[0m\u001b[0;34m\u001b[0m\u001b[0m\n\u001b[0m\u001b[1;32m     10\u001b[0m \u001b[0mCensus_ages\u001b[0m\u001b[0;34m.\u001b[0m\u001b[0mhead\u001b[0m\u001b[0;34m(\u001b[0m\u001b[0;34m)\u001b[0m\u001b[0;34m\u001b[0m\u001b[0m\n",
      "\u001b[0;32m/usr/local/Anaconda3-5.0.0-Linux-x86_64/envs/ADS/lib/python3.5/site-packages/pandas/util/_decorators.py\u001b[0m in \u001b[0;36mwrapper\u001b[0;34m(*args, **kwargs)\u001b[0m\n\u001b[1;32m    176\u001b[0m                 \u001b[0;32melse\u001b[0m\u001b[0;34m:\u001b[0m\u001b[0;34m\u001b[0m\u001b[0m\n\u001b[1;32m    177\u001b[0m                     \u001b[0mkwargs\u001b[0m\u001b[0;34m[\u001b[0m\u001b[0mnew_arg_name\u001b[0m\u001b[0;34m]\u001b[0m \u001b[0;34m=\u001b[0m \u001b[0mnew_arg_value\u001b[0m\u001b[0;34m\u001b[0m\u001b[0m\n\u001b[0;32m--> 178\u001b[0;31m             \u001b[0;32mreturn\u001b[0m \u001b[0mfunc\u001b[0m\u001b[0;34m(\u001b[0m\u001b[0;34m*\u001b[0m\u001b[0margs\u001b[0m\u001b[0;34m,\u001b[0m \u001b[0;34m**\u001b[0m\u001b[0mkwargs\u001b[0m\u001b[0;34m)\u001b[0m\u001b[0;34m\u001b[0m\u001b[0m\n\u001b[0m\u001b[1;32m    179\u001b[0m         \u001b[0;32mreturn\u001b[0m \u001b[0mwrapper\u001b[0m\u001b[0;34m\u001b[0m\u001b[0m\n\u001b[1;32m    180\u001b[0m     \u001b[0;32mreturn\u001b[0m \u001b[0m_deprecate_kwarg\u001b[0m\u001b[0;34m\u001b[0m\u001b[0m\n",
      "\u001b[0;32m/usr/local/Anaconda3-5.0.0-Linux-x86_64/envs/ADS/lib/python3.5/site-packages/pandas/core/generic.py\u001b[0m in \u001b[0;36mastype\u001b[0;34m(self, dtype, copy, errors, **kwargs)\u001b[0m\n\u001b[1;32m   4999\u001b[0m             \u001b[0;31m# else, only a single dtype is given\u001b[0m\u001b[0;34m\u001b[0m\u001b[0;34m\u001b[0m\u001b[0m\n\u001b[1;32m   5000\u001b[0m             new_data = self._data.astype(dtype=dtype, copy=copy, errors=errors,\n\u001b[0;32m-> 5001\u001b[0;31m                                          **kwargs)\n\u001b[0m\u001b[1;32m   5002\u001b[0m             \u001b[0;32mreturn\u001b[0m \u001b[0mself\u001b[0m\u001b[0;34m.\u001b[0m\u001b[0m_constructor\u001b[0m\u001b[0;34m(\u001b[0m\u001b[0mnew_data\u001b[0m\u001b[0;34m)\u001b[0m\u001b[0;34m.\u001b[0m\u001b[0m__finalize__\u001b[0m\u001b[0;34m(\u001b[0m\u001b[0mself\u001b[0m\u001b[0;34m)\u001b[0m\u001b[0;34m\u001b[0m\u001b[0m\n\u001b[1;32m   5003\u001b[0m \u001b[0;34m\u001b[0m\u001b[0m\n",
      "\u001b[0;32m/usr/local/Anaconda3-5.0.0-Linux-x86_64/envs/ADS/lib/python3.5/site-packages/pandas/core/internals.py\u001b[0m in \u001b[0;36mastype\u001b[0;34m(self, dtype, **kwargs)\u001b[0m\n\u001b[1;32m   3712\u001b[0m \u001b[0;34m\u001b[0m\u001b[0m\n\u001b[1;32m   3713\u001b[0m     \u001b[0;32mdef\u001b[0m \u001b[0mastype\u001b[0m\u001b[0;34m(\u001b[0m\u001b[0mself\u001b[0m\u001b[0;34m,\u001b[0m \u001b[0mdtype\u001b[0m\u001b[0;34m,\u001b[0m \u001b[0;34m**\u001b[0m\u001b[0mkwargs\u001b[0m\u001b[0;34m)\u001b[0m\u001b[0;34m:\u001b[0m\u001b[0;34m\u001b[0m\u001b[0m\n\u001b[0;32m-> 3714\u001b[0;31m         \u001b[0;32mreturn\u001b[0m \u001b[0mself\u001b[0m\u001b[0;34m.\u001b[0m\u001b[0mapply\u001b[0m\u001b[0;34m(\u001b[0m\u001b[0;34m'astype'\u001b[0m\u001b[0;34m,\u001b[0m \u001b[0mdtype\u001b[0m\u001b[0;34m=\u001b[0m\u001b[0mdtype\u001b[0m\u001b[0;34m,\u001b[0m \u001b[0;34m**\u001b[0m\u001b[0mkwargs\u001b[0m\u001b[0;34m)\u001b[0m\u001b[0;34m\u001b[0m\u001b[0m\n\u001b[0m\u001b[1;32m   3715\u001b[0m \u001b[0;34m\u001b[0m\u001b[0m\n\u001b[1;32m   3716\u001b[0m     \u001b[0;32mdef\u001b[0m \u001b[0mconvert\u001b[0m\u001b[0;34m(\u001b[0m\u001b[0mself\u001b[0m\u001b[0;34m,\u001b[0m \u001b[0;34m**\u001b[0m\u001b[0mkwargs\u001b[0m\u001b[0;34m)\u001b[0m\u001b[0;34m:\u001b[0m\u001b[0;34m\u001b[0m\u001b[0m\n",
      "\u001b[0;32m/usr/local/Anaconda3-5.0.0-Linux-x86_64/envs/ADS/lib/python3.5/site-packages/pandas/core/internals.py\u001b[0m in \u001b[0;36mapply\u001b[0;34m(self, f, axes, filter, do_integrity_check, consolidate, **kwargs)\u001b[0m\n\u001b[1;32m   3579\u001b[0m \u001b[0;34m\u001b[0m\u001b[0m\n\u001b[1;32m   3580\u001b[0m             \u001b[0mkwargs\u001b[0m\u001b[0;34m[\u001b[0m\u001b[0;34m'mgr'\u001b[0m\u001b[0;34m]\u001b[0m \u001b[0;34m=\u001b[0m \u001b[0mself\u001b[0m\u001b[0;34m\u001b[0m\u001b[0m\n\u001b[0;32m-> 3581\u001b[0;31m             \u001b[0mapplied\u001b[0m \u001b[0;34m=\u001b[0m \u001b[0mgetattr\u001b[0m\u001b[0;34m(\u001b[0m\u001b[0mb\u001b[0m\u001b[0;34m,\u001b[0m \u001b[0mf\u001b[0m\u001b[0;34m)\u001b[0m\u001b[0;34m(\u001b[0m\u001b[0;34m**\u001b[0m\u001b[0mkwargs\u001b[0m\u001b[0;34m)\u001b[0m\u001b[0;34m\u001b[0m\u001b[0m\n\u001b[0m\u001b[1;32m   3582\u001b[0m             \u001b[0mresult_blocks\u001b[0m \u001b[0;34m=\u001b[0m \u001b[0m_extend_blocks\u001b[0m\u001b[0;34m(\u001b[0m\u001b[0mapplied\u001b[0m\u001b[0;34m,\u001b[0m \u001b[0mresult_blocks\u001b[0m\u001b[0;34m)\u001b[0m\u001b[0;34m\u001b[0m\u001b[0m\n\u001b[1;32m   3583\u001b[0m \u001b[0;34m\u001b[0m\u001b[0m\n",
      "\u001b[0;32m/usr/local/Anaconda3-5.0.0-Linux-x86_64/envs/ADS/lib/python3.5/site-packages/pandas/core/internals.py\u001b[0m in \u001b[0;36mastype\u001b[0;34m(self, dtype, copy, errors, values, **kwargs)\u001b[0m\n\u001b[1;32m    573\u001b[0m     \u001b[0;32mdef\u001b[0m \u001b[0mastype\u001b[0m\u001b[0;34m(\u001b[0m\u001b[0mself\u001b[0m\u001b[0;34m,\u001b[0m \u001b[0mdtype\u001b[0m\u001b[0;34m,\u001b[0m \u001b[0mcopy\u001b[0m\u001b[0;34m=\u001b[0m\u001b[0;32mFalse\u001b[0m\u001b[0;34m,\u001b[0m \u001b[0merrors\u001b[0m\u001b[0;34m=\u001b[0m\u001b[0;34m'raise'\u001b[0m\u001b[0;34m,\u001b[0m \u001b[0mvalues\u001b[0m\u001b[0;34m=\u001b[0m\u001b[0;32mNone\u001b[0m\u001b[0;34m,\u001b[0m \u001b[0;34m**\u001b[0m\u001b[0mkwargs\u001b[0m\u001b[0;34m)\u001b[0m\u001b[0;34m:\u001b[0m\u001b[0;34m\u001b[0m\u001b[0m\n\u001b[1;32m    574\u001b[0m         return self._astype(dtype, copy=copy, errors=errors, values=values,\n\u001b[0;32m--> 575\u001b[0;31m                             **kwargs)\n\u001b[0m\u001b[1;32m    576\u001b[0m \u001b[0;34m\u001b[0m\u001b[0m\n\u001b[1;32m    577\u001b[0m     def _astype(self, dtype, copy=False, errors='raise', values=None,\n",
      "\u001b[0;32m/usr/local/Anaconda3-5.0.0-Linux-x86_64/envs/ADS/lib/python3.5/site-packages/pandas/core/internals.py\u001b[0m in \u001b[0;36m_astype\u001b[0;34m(self, dtype, copy, errors, values, klass, mgr, **kwargs)\u001b[0m\n\u001b[1;32m    662\u001b[0m \u001b[0;34m\u001b[0m\u001b[0m\n\u001b[1;32m    663\u001b[0m                 \u001b[0;31m# _astype_nansafe works fine with 1-d only\u001b[0m\u001b[0;34m\u001b[0m\u001b[0;34m\u001b[0m\u001b[0m\n\u001b[0;32m--> 664\u001b[0;31m                 \u001b[0mvalues\u001b[0m \u001b[0;34m=\u001b[0m \u001b[0mastype_nansafe\u001b[0m\u001b[0;34m(\u001b[0m\u001b[0mvalues\u001b[0m\u001b[0;34m.\u001b[0m\u001b[0mravel\u001b[0m\u001b[0;34m(\u001b[0m\u001b[0;34m)\u001b[0m\u001b[0;34m,\u001b[0m \u001b[0mdtype\u001b[0m\u001b[0;34m,\u001b[0m \u001b[0mcopy\u001b[0m\u001b[0;34m=\u001b[0m\u001b[0;32mTrue\u001b[0m\u001b[0;34m)\u001b[0m\u001b[0;34m\u001b[0m\u001b[0m\n\u001b[0m\u001b[1;32m    665\u001b[0m                 \u001b[0mvalues\u001b[0m \u001b[0;34m=\u001b[0m \u001b[0mvalues\u001b[0m\u001b[0;34m.\u001b[0m\u001b[0mreshape\u001b[0m\u001b[0;34m(\u001b[0m\u001b[0mself\u001b[0m\u001b[0;34m.\u001b[0m\u001b[0mshape\u001b[0m\u001b[0;34m)\u001b[0m\u001b[0;34m\u001b[0m\u001b[0m\n\u001b[1;32m    666\u001b[0m \u001b[0;34m\u001b[0m\u001b[0m\n",
      "\u001b[0;32m/usr/local/Anaconda3-5.0.0-Linux-x86_64/envs/ADS/lib/python3.5/site-packages/pandas/core/dtypes/cast.py\u001b[0m in \u001b[0;36mastype_nansafe\u001b[0;34m(arr, dtype, copy)\u001b[0m\n\u001b[1;32m    707\u001b[0m         \u001b[0;31m# work around NumPy brokenness, #1987\u001b[0m\u001b[0;34m\u001b[0m\u001b[0;34m\u001b[0m\u001b[0m\n\u001b[1;32m    708\u001b[0m         \u001b[0;32mif\u001b[0m \u001b[0mnp\u001b[0m\u001b[0;34m.\u001b[0m\u001b[0missubdtype\u001b[0m\u001b[0;34m(\u001b[0m\u001b[0mdtype\u001b[0m\u001b[0;34m.\u001b[0m\u001b[0mtype\u001b[0m\u001b[0;34m,\u001b[0m \u001b[0mnp\u001b[0m\u001b[0;34m.\u001b[0m\u001b[0minteger\u001b[0m\u001b[0;34m)\u001b[0m\u001b[0;34m:\u001b[0m\u001b[0;34m\u001b[0m\u001b[0m\n\u001b[0;32m--> 709\u001b[0;31m             \u001b[0;32mreturn\u001b[0m \u001b[0mlib\u001b[0m\u001b[0;34m.\u001b[0m\u001b[0mastype_intsafe\u001b[0m\u001b[0;34m(\u001b[0m\u001b[0marr\u001b[0m\u001b[0;34m.\u001b[0m\u001b[0mravel\u001b[0m\u001b[0;34m(\u001b[0m\u001b[0;34m)\u001b[0m\u001b[0;34m,\u001b[0m \u001b[0mdtype\u001b[0m\u001b[0;34m)\u001b[0m\u001b[0;34m.\u001b[0m\u001b[0mreshape\u001b[0m\u001b[0;34m(\u001b[0m\u001b[0marr\u001b[0m\u001b[0;34m.\u001b[0m\u001b[0mshape\u001b[0m\u001b[0;34m)\u001b[0m\u001b[0;34m\u001b[0m\u001b[0m\n\u001b[0m\u001b[1;32m    710\u001b[0m \u001b[0;34m\u001b[0m\u001b[0m\n\u001b[1;32m    711\u001b[0m         \u001b[0;31m# if we have a datetime/timedelta array of objects\u001b[0m\u001b[0;34m\u001b[0m\u001b[0;34m\u001b[0m\u001b[0m\n",
      "\u001b[0;32mpandas/_libs/lib.pyx\u001b[0m in \u001b[0;36mpandas._libs.lib.astype_intsafe\u001b[0;34m()\u001b[0m\n",
      "\u001b[0;32mpandas/_libs/src/util.pxd\u001b[0m in \u001b[0;36mutil.set_value_at_unsafe\u001b[0;34m()\u001b[0m\n",
      "\u001b[0;31mValueError\u001b[0m: invalid literal for int() with base 10: '4427(r46992)'"
     ]
    }
   ],
   "source": [
    "Census_ages = pd.read_csv('./Data/NYC/DEC_10_SF1_QTP1_with_ann.csv')\n",
    "Census_ages.rename(columns={'GEO.id2': \"GEOID\"},inplace=True)\n",
    "# Census_ages.drop(columns=['Unnamed: 0'],inplace=True)\n",
    "print(Census_ages.shape)\n",
    "Census_ages = Census_ages.dropna().drop('GEO.display-label',axis=1).iloc[1:,1:-4]\n",
    "print(Census_ages.shape)\n",
    "for i in Census_ages.columns:\n",
    "    print(i)\n",
    "    Census_ages[i] = pd.to_numeric(Census_ages[i].astype(int))\n",
    "Census_ages.head()"
   ]
  },
  {
   "cell_type": "code",
   "execution_count": 210,
   "metadata": {},
   "outputs": [
    {
     "ename": "ValueError",
     "evalue": "could not convert string to float: '2515(r47042)'",
     "output_type": "error",
     "traceback": [
      "\u001b[0;31m---------------------------------------------------------------------------\u001b[0m",
      "\u001b[0;31mValueError\u001b[0m                                Traceback (most recent call last)",
      "\u001b[0;32m<ipython-input-210-0a201b5338f1>\u001b[0m in \u001b[0;36m<module>\u001b[0;34m()\u001b[0m\n\u001b[1;32m      1\u001b[0m \u001b[0;31m# pd.to_numeric[]\u001b[0m\u001b[0;34m\u001b[0m\u001b[0;34m\u001b[0m\u001b[0m\n\u001b[0;32m----> 2\u001b[0;31m \u001b[0mCensus_ages\u001b[0m\u001b[0;34m.\u001b[0m\u001b[0mSUBHD0101_S01\u001b[0m\u001b[0;34m.\u001b[0m\u001b[0mastype\u001b[0m\u001b[0;34m(\u001b[0m\u001b[0mfloat\u001b[0m\u001b[0;34m)\u001b[0m\u001b[0;34m\u001b[0m\u001b[0m\n\u001b[0m",
      "\u001b[0;32m/usr/local/Anaconda3-5.0.0-Linux-x86_64/envs/ADS/lib/python3.5/site-packages/pandas/util/_decorators.py\u001b[0m in \u001b[0;36mwrapper\u001b[0;34m(*args, **kwargs)\u001b[0m\n\u001b[1;32m    176\u001b[0m                 \u001b[0;32melse\u001b[0m\u001b[0;34m:\u001b[0m\u001b[0;34m\u001b[0m\u001b[0m\n\u001b[1;32m    177\u001b[0m                     \u001b[0mkwargs\u001b[0m\u001b[0;34m[\u001b[0m\u001b[0mnew_arg_name\u001b[0m\u001b[0;34m]\u001b[0m \u001b[0;34m=\u001b[0m \u001b[0mnew_arg_value\u001b[0m\u001b[0;34m\u001b[0m\u001b[0m\n\u001b[0;32m--> 178\u001b[0;31m             \u001b[0;32mreturn\u001b[0m \u001b[0mfunc\u001b[0m\u001b[0;34m(\u001b[0m\u001b[0;34m*\u001b[0m\u001b[0margs\u001b[0m\u001b[0;34m,\u001b[0m \u001b[0;34m**\u001b[0m\u001b[0mkwargs\u001b[0m\u001b[0;34m)\u001b[0m\u001b[0;34m\u001b[0m\u001b[0m\n\u001b[0m\u001b[1;32m    179\u001b[0m         \u001b[0;32mreturn\u001b[0m \u001b[0mwrapper\u001b[0m\u001b[0;34m\u001b[0m\u001b[0m\n\u001b[1;32m    180\u001b[0m     \u001b[0;32mreturn\u001b[0m \u001b[0m_deprecate_kwarg\u001b[0m\u001b[0;34m\u001b[0m\u001b[0m\n",
      "\u001b[0;32m/usr/local/Anaconda3-5.0.0-Linux-x86_64/envs/ADS/lib/python3.5/site-packages/pandas/core/generic.py\u001b[0m in \u001b[0;36mastype\u001b[0;34m(self, dtype, copy, errors, **kwargs)\u001b[0m\n\u001b[1;32m   4999\u001b[0m             \u001b[0;31m# else, only a single dtype is given\u001b[0m\u001b[0;34m\u001b[0m\u001b[0;34m\u001b[0m\u001b[0m\n\u001b[1;32m   5000\u001b[0m             new_data = self._data.astype(dtype=dtype, copy=copy, errors=errors,\n\u001b[0;32m-> 5001\u001b[0;31m                                          **kwargs)\n\u001b[0m\u001b[1;32m   5002\u001b[0m             \u001b[0;32mreturn\u001b[0m \u001b[0mself\u001b[0m\u001b[0;34m.\u001b[0m\u001b[0m_constructor\u001b[0m\u001b[0;34m(\u001b[0m\u001b[0mnew_data\u001b[0m\u001b[0;34m)\u001b[0m\u001b[0;34m.\u001b[0m\u001b[0m__finalize__\u001b[0m\u001b[0;34m(\u001b[0m\u001b[0mself\u001b[0m\u001b[0;34m)\u001b[0m\u001b[0;34m\u001b[0m\u001b[0m\n\u001b[1;32m   5003\u001b[0m \u001b[0;34m\u001b[0m\u001b[0m\n",
      "\u001b[0;32m/usr/local/Anaconda3-5.0.0-Linux-x86_64/envs/ADS/lib/python3.5/site-packages/pandas/core/internals.py\u001b[0m in \u001b[0;36mastype\u001b[0;34m(self, dtype, **kwargs)\u001b[0m\n\u001b[1;32m   3712\u001b[0m \u001b[0;34m\u001b[0m\u001b[0m\n\u001b[1;32m   3713\u001b[0m     \u001b[0;32mdef\u001b[0m \u001b[0mastype\u001b[0m\u001b[0;34m(\u001b[0m\u001b[0mself\u001b[0m\u001b[0;34m,\u001b[0m \u001b[0mdtype\u001b[0m\u001b[0;34m,\u001b[0m \u001b[0;34m**\u001b[0m\u001b[0mkwargs\u001b[0m\u001b[0;34m)\u001b[0m\u001b[0;34m:\u001b[0m\u001b[0;34m\u001b[0m\u001b[0m\n\u001b[0;32m-> 3714\u001b[0;31m         \u001b[0;32mreturn\u001b[0m \u001b[0mself\u001b[0m\u001b[0;34m.\u001b[0m\u001b[0mapply\u001b[0m\u001b[0;34m(\u001b[0m\u001b[0;34m'astype'\u001b[0m\u001b[0;34m,\u001b[0m \u001b[0mdtype\u001b[0m\u001b[0;34m=\u001b[0m\u001b[0mdtype\u001b[0m\u001b[0;34m,\u001b[0m \u001b[0;34m**\u001b[0m\u001b[0mkwargs\u001b[0m\u001b[0;34m)\u001b[0m\u001b[0;34m\u001b[0m\u001b[0m\n\u001b[0m\u001b[1;32m   3715\u001b[0m \u001b[0;34m\u001b[0m\u001b[0m\n\u001b[1;32m   3716\u001b[0m     \u001b[0;32mdef\u001b[0m \u001b[0mconvert\u001b[0m\u001b[0;34m(\u001b[0m\u001b[0mself\u001b[0m\u001b[0;34m,\u001b[0m \u001b[0;34m**\u001b[0m\u001b[0mkwargs\u001b[0m\u001b[0;34m)\u001b[0m\u001b[0;34m:\u001b[0m\u001b[0;34m\u001b[0m\u001b[0m\n",
      "\u001b[0;32m/usr/local/Anaconda3-5.0.0-Linux-x86_64/envs/ADS/lib/python3.5/site-packages/pandas/core/internals.py\u001b[0m in \u001b[0;36mapply\u001b[0;34m(self, f, axes, filter, do_integrity_check, consolidate, **kwargs)\u001b[0m\n\u001b[1;32m   3579\u001b[0m \u001b[0;34m\u001b[0m\u001b[0m\n\u001b[1;32m   3580\u001b[0m             \u001b[0mkwargs\u001b[0m\u001b[0;34m[\u001b[0m\u001b[0;34m'mgr'\u001b[0m\u001b[0;34m]\u001b[0m \u001b[0;34m=\u001b[0m \u001b[0mself\u001b[0m\u001b[0;34m\u001b[0m\u001b[0m\n\u001b[0;32m-> 3581\u001b[0;31m             \u001b[0mapplied\u001b[0m \u001b[0;34m=\u001b[0m \u001b[0mgetattr\u001b[0m\u001b[0;34m(\u001b[0m\u001b[0mb\u001b[0m\u001b[0;34m,\u001b[0m \u001b[0mf\u001b[0m\u001b[0;34m)\u001b[0m\u001b[0;34m(\u001b[0m\u001b[0;34m**\u001b[0m\u001b[0mkwargs\u001b[0m\u001b[0;34m)\u001b[0m\u001b[0;34m\u001b[0m\u001b[0m\n\u001b[0m\u001b[1;32m   3582\u001b[0m             \u001b[0mresult_blocks\u001b[0m \u001b[0;34m=\u001b[0m \u001b[0m_extend_blocks\u001b[0m\u001b[0;34m(\u001b[0m\u001b[0mapplied\u001b[0m\u001b[0;34m,\u001b[0m \u001b[0mresult_blocks\u001b[0m\u001b[0;34m)\u001b[0m\u001b[0;34m\u001b[0m\u001b[0m\n\u001b[1;32m   3583\u001b[0m \u001b[0;34m\u001b[0m\u001b[0m\n",
      "\u001b[0;32m/usr/local/Anaconda3-5.0.0-Linux-x86_64/envs/ADS/lib/python3.5/site-packages/pandas/core/internals.py\u001b[0m in \u001b[0;36mastype\u001b[0;34m(self, dtype, copy, errors, values, **kwargs)\u001b[0m\n\u001b[1;32m    573\u001b[0m     \u001b[0;32mdef\u001b[0m \u001b[0mastype\u001b[0m\u001b[0;34m(\u001b[0m\u001b[0mself\u001b[0m\u001b[0;34m,\u001b[0m \u001b[0mdtype\u001b[0m\u001b[0;34m,\u001b[0m \u001b[0mcopy\u001b[0m\u001b[0;34m=\u001b[0m\u001b[0;32mFalse\u001b[0m\u001b[0;34m,\u001b[0m \u001b[0merrors\u001b[0m\u001b[0;34m=\u001b[0m\u001b[0;34m'raise'\u001b[0m\u001b[0;34m,\u001b[0m \u001b[0mvalues\u001b[0m\u001b[0;34m=\u001b[0m\u001b[0;32mNone\u001b[0m\u001b[0;34m,\u001b[0m \u001b[0;34m**\u001b[0m\u001b[0mkwargs\u001b[0m\u001b[0;34m)\u001b[0m\u001b[0;34m:\u001b[0m\u001b[0;34m\u001b[0m\u001b[0m\n\u001b[1;32m    574\u001b[0m         return self._astype(dtype, copy=copy, errors=errors, values=values,\n\u001b[0;32m--> 575\u001b[0;31m                             **kwargs)\n\u001b[0m\u001b[1;32m    576\u001b[0m \u001b[0;34m\u001b[0m\u001b[0m\n\u001b[1;32m    577\u001b[0m     def _astype(self, dtype, copy=False, errors='raise', values=None,\n",
      "\u001b[0;32m/usr/local/Anaconda3-5.0.0-Linux-x86_64/envs/ADS/lib/python3.5/site-packages/pandas/core/internals.py\u001b[0m in \u001b[0;36m_astype\u001b[0;34m(self, dtype, copy, errors, values, klass, mgr, **kwargs)\u001b[0m\n\u001b[1;32m    662\u001b[0m \u001b[0;34m\u001b[0m\u001b[0m\n\u001b[1;32m    663\u001b[0m                 \u001b[0;31m# _astype_nansafe works fine with 1-d only\u001b[0m\u001b[0;34m\u001b[0m\u001b[0;34m\u001b[0m\u001b[0m\n\u001b[0;32m--> 664\u001b[0;31m                 \u001b[0mvalues\u001b[0m \u001b[0;34m=\u001b[0m \u001b[0mastype_nansafe\u001b[0m\u001b[0;34m(\u001b[0m\u001b[0mvalues\u001b[0m\u001b[0;34m.\u001b[0m\u001b[0mravel\u001b[0m\u001b[0;34m(\u001b[0m\u001b[0;34m)\u001b[0m\u001b[0;34m,\u001b[0m \u001b[0mdtype\u001b[0m\u001b[0;34m,\u001b[0m \u001b[0mcopy\u001b[0m\u001b[0;34m=\u001b[0m\u001b[0;32mTrue\u001b[0m\u001b[0;34m)\u001b[0m\u001b[0;34m\u001b[0m\u001b[0m\n\u001b[0m\u001b[1;32m    665\u001b[0m                 \u001b[0mvalues\u001b[0m \u001b[0;34m=\u001b[0m \u001b[0mvalues\u001b[0m\u001b[0;34m.\u001b[0m\u001b[0mreshape\u001b[0m\u001b[0;34m(\u001b[0m\u001b[0mself\u001b[0m\u001b[0;34m.\u001b[0m\u001b[0mshape\u001b[0m\u001b[0;34m)\u001b[0m\u001b[0;34m\u001b[0m\u001b[0m\n\u001b[1;32m    666\u001b[0m \u001b[0;34m\u001b[0m\u001b[0m\n",
      "\u001b[0;32m/usr/local/Anaconda3-5.0.0-Linux-x86_64/envs/ADS/lib/python3.5/site-packages/pandas/core/dtypes/cast.py\u001b[0m in \u001b[0;36mastype_nansafe\u001b[0;34m(arr, dtype, copy)\u001b[0m\n\u001b[1;32m    728\u001b[0m \u001b[0;34m\u001b[0m\u001b[0m\n\u001b[1;32m    729\u001b[0m     \u001b[0;32mif\u001b[0m \u001b[0mcopy\u001b[0m\u001b[0;34m:\u001b[0m\u001b[0;34m\u001b[0m\u001b[0m\n\u001b[0;32m--> 730\u001b[0;31m         \u001b[0;32mreturn\u001b[0m \u001b[0marr\u001b[0m\u001b[0;34m.\u001b[0m\u001b[0mastype\u001b[0m\u001b[0;34m(\u001b[0m\u001b[0mdtype\u001b[0m\u001b[0;34m,\u001b[0m \u001b[0mcopy\u001b[0m\u001b[0;34m=\u001b[0m\u001b[0;32mTrue\u001b[0m\u001b[0;34m)\u001b[0m\u001b[0;34m\u001b[0m\u001b[0m\n\u001b[0m\u001b[1;32m    731\u001b[0m     \u001b[0;32mreturn\u001b[0m \u001b[0marr\u001b[0m\u001b[0;34m.\u001b[0m\u001b[0mview\u001b[0m\u001b[0;34m(\u001b[0m\u001b[0mdtype\u001b[0m\u001b[0;34m)\u001b[0m\u001b[0;34m\u001b[0m\u001b[0m\n\u001b[1;32m    732\u001b[0m \u001b[0;34m\u001b[0m\u001b[0m\n",
      "\u001b[0;31mValueError\u001b[0m: could not convert string to float: '2515(r47042)'"
     ]
    }
   ],
   "source": [
    "# pd.to_numeric[]\n",
    "Census_ages.SUBHD0101_S01.astype(float)"
   ]
  },
  {
   "cell_type": "code",
   "execution_count": 176,
   "metadata": {},
   "outputs": [],
   "source": [
    "Census_data_original['GEOID'] = pd.to_numeric(Census_data_original['GEOID'])\n",
    "Censuspd_TOD['GEOID'] = pd.to_numeric(Censuspd_TOD['GEOID'])\n",
    "Census_data_new['GEOID']  = pd.to_numeric(Census_data_new['GEOID'])\n",
    "Census_ages['GEOID']  = pd.to_numeric(Census_ages['GEOID'])\n",
    "Census_commercial['GEOID']  = pd.to_numeric(Census_commercial['GEOID'])"
   ]
  },
  {
   "cell_type": "code",
   "execution_count": 177,
   "metadata": {},
   "outputs": [
    {
     "name": "stdout",
     "output_type": "stream",
     "text": [
      "(5338, 2) (5298, 8) (5276, 8) (4597, 284) (2171, 2)\n",
      "(5291, 9)\n",
      "(5272, 16)\n",
      "(3248, 299)\n",
      "(2151, 300)\n"
     ]
    }
   ],
   "source": [
    "# Merge Censuspd_TOD, Census_data_original, Census_data_new\n",
    "print(Censuspd_TOD.shape, Census_data_original.shape, Census_data_new.shape, Census_ages.shape,Census_commercial.shape)\n",
    "Census_new_temp = Censuspd_TOD.merge(Census_data_original,on='GEOID')\n",
    "print(Census_new_temp.shape)\n",
    "Census_new_temp = Census_data_new.merge(Census_new_temp,on='GEOID')\n",
    "print(Census_new_temp.shape)\n",
    "Census_new_temp = Census_ages.merge(Census_new_temp,on='GEOID')\n",
    "print(Census_new_temp.shape)\n",
    "Census_combined = Census_commercial.merge(Census_new_temp,on='GEOID')\n",
    "print(Census_combined.shape)\n",
    "# (Census_combined.GEOID==Census_combined.geojoin).sum()"
   ]
  },
  {
   "cell_type": "markdown",
   "metadata": {},
   "source": [
    "# Combine Datasets"
   ]
  },
  {
   "cell_type": "code",
   "execution_count": 178,
   "metadata": {},
   "outputs": [],
   "source": [
    "### Combine FQ DATA::"
   ]
  },
  {
   "cell_type": "code",
   "execution_count": 179,
   "metadata": {},
   "outputs": [
    {
     "name": "stdout",
     "output_type": "stream",
     "text": [
      "(3009, 724)\n",
      "(3009, 732)\n",
      "(3009, 735)\n",
      "(3009, 739)\n",
      "(3009, 750)\n",
      "(3009, 1459)\n",
      "(3009, 1459)\n",
      "9 5 12 4 15\n"
     ]
    },
    {
     "data": {
      "text/plain": [
       "((3009, 9), (3009, 5), (3009, 12), (3009, 4), (3009, 15), (3009, 710))"
      ]
     },
     "execution_count": 179,
     "metadata": {},
     "output_type": "execute_result"
    }
   ],
   "source": [
    "X_foursquare = X_foursquare_high.merge(X_foursquare_neighbours, on='GEOID')\n",
    "print(X_foursquare.shape)\n",
    "X_foursquare = X_foursquare.merge(X_foursquare_low, on='GEOID')\n",
    "print(X_foursquare.shape)\n",
    "X_foursquare = X_foursquare.merge(X_foursquare_class, on='GEOID')\n",
    "print(X_foursquare.shape)\n",
    "X_foursquare = X_foursquare.merge(X_foursquare_numeric, on='GEOID')\n",
    "print(X_foursquare.shape)\n",
    "X_foursquare = X_foursquare.merge(X_foursquare_cats1, on='GEOID')\n",
    "print(X_foursquare.shape)\n",
    "X_foursquare = X_foursquare.merge(X_foursquare_data_sjoined_all, on='GEOID')\n",
    "print(X_foursquare.shape)\n",
    "print(X_foursquare.shape)\n",
    "print(X_foursquare_low.shape[1],X_foursquare_numeric.shape[1],X_foursquare_cats1.shape[1], X_foursquare_class.shape[1],X_foursquare_high.shape[1])\n",
    "X_foursquare_low.shape,X_foursquare_numeric.shape,X_foursquare_cats1.shape, X_foursquare_class.shape,X_foursquare_high.shape,X_foursquare_neighbours.shape"
   ]
  },
  {
   "cell_type": "markdown",
   "metadata": {},
   "source": [
    "# Combine TW+FQ+Census\n",
    "- twitterdata \n",
    "- X_foursquare\n",
    "- Census_combined"
   ]
  },
  {
   "cell_type": "code",
   "execution_count": 180,
   "metadata": {},
   "outputs": [
    {
     "name": "stdout",
     "output_type": "stream",
     "text": [
      "(3009, 1459)\n",
      "(2676, 1494)\n"
     ]
    }
   ],
   "source": [
    "print(X_foursquare.shape)\n",
    "TW_FQpd = twitterdata.merge(X_foursquare,on='GEOID')\n",
    "print(TW_FQpd.shape)"
   ]
  },
  {
   "cell_type": "code",
   "execution_count": 181,
   "metadata": {},
   "outputs": [
    {
     "name": "stdout",
     "output_type": "stream",
     "text": [
      "(2676, 1494) Index(['GEOID', 'total_tweets', 'userwith5_count', 'total_users',\n",
      "       'Monday_oddratio', 'Tuesday_oddratio', 'Wednesday_oddratio',\n",
      "       'Thursday_oddratio', 'Friday_oddratio', 'Saturday_oddratio',\n",
      "       ...\n",
      "       'Category_Leisure', 'Category_Mobility', 'Category_Nutrition',\n",
      "       'Category_Personal care', 'Category_Social', 'Category_Taking care',\n",
      "       'Category_Unknown', 'Class_', 'Class_Necessary', 'Class_Optional'],\n",
      "      dtype='object', length=1494)\n",
      "(1885, 1504) Index(['GEOID', 'total_tweets', 'userwith5_count', 'total_users',\n",
      "       'Monday_oddratio', 'Tuesday_oddratio', 'Wednesday_oddratio',\n",
      "       'Thursday_oddratio', 'Friday_oddratio', 'Saturday_oddratio'],\n",
      "      dtype='object')\n"
     ]
    },
    {
     "data": {
      "text/plain": [
       "<matplotlib.axes._subplots.AxesSubplot at 0x7eff0d05cfd0>"
      ]
     },
     "execution_count": 181,
     "metadata": {},
     "output_type": "execute_result"
    },
    {
     "data": {
      "image/png": "[encoded data removed]",
      "text/plain": [
       "<matplotlib.figure.Figure at 0x7eff0d23f630>"
      ]
     },
     "metadata": {
      "needs_background": "light"
     },
     "output_type": "display_data"
    }
   ],
   "source": [
    "print(TW_FQpd.shape,TW_FQpd.columns)\n",
    "TW_FQpd_temp = TW_FQpd.merge(mergedgpd, on ='GEOID')\n",
    "print(TW_FQpd_temp.shape,TW_FQpd_temp.columns[:10])\n",
    "TW_FQpd_temp = gpd.GeoDataFrame(TW_FQpd_temp)\n",
    "figure, ax = plt.subplots()\n",
    "TW_FQpd_temp.plot(column='GEOID',legend = True, ax=ax)"
   ]
  },
  {
   "cell_type": "code",
   "execution_count": 182,
   "metadata": {},
   "outputs": [
    {
     "name": "stdout",
     "output_type": "stream",
     "text": [
      "(2676, 1494)\n",
      "(1885, 1793)\n"
     ]
    },
    {
     "data": {
      "text/html": [
       "<div>\n",
       "<style scoped>\n",
       "    .dataframe tbody tr th:only-of-type {\n",
       "        vertical-align: middle;\n",
       "    }\n",
       "\n",
       "    .dataframe tbody tr th {\n",
       "        vertical-align: top;\n",
       "    }\n",
       "\n",
       "    .dataframe thead th {\n",
       "        text-align: right;\n",
       "    }\n",
       "</style>\n",
       "<table border=\"1\" class=\"dataframe\">\n",
       "  <thead>\n",
       "    <tr style=\"text-align: right;\">\n",
       "      <th></th>\n",
       "      <th>GEOID</th>\n",
       "      <th>commercial_pct</th>\n",
       "      <th>SUBHD0101_S01</th>\n",
       "      <th>SUBHD0102_S01</th>\n",
       "      <th>SUBHD0103_S01</th>\n",
       "      <th>SUBHD0201_S01</th>\n",
       "      <th>SUBHD0202_S01</th>\n",
       "      <th>SUBHD0203_S01</th>\n",
       "      <th>HD03_S01</th>\n",
       "      <th>SUBHD0101_S02</th>\n",
       "      <th>...</th>\n",
       "      <th>Category_Leisure</th>\n",
       "      <th>Category_Mobility</th>\n",
       "      <th>Category_Nutrition</th>\n",
       "      <th>Category_Personal care</th>\n",
       "      <th>Category_Social</th>\n",
       "      <th>Category_Taking care</th>\n",
       "      <th>Category_Unknown</th>\n",
       "      <th>Class_</th>\n",
       "      <th>Class_Necessary</th>\n",
       "      <th>Class_Optional</th>\n",
       "    </tr>\n",
       "  </thead>\n",
       "  <tbody>\n",
       "    <tr>\n",
       "      <th>0</th>\n",
       "      <td>36005000200</td>\n",
       "      <td>0.047414</td>\n",
       "      <td>4334</td>\n",
       "      <td>2030</td>\n",
       "      <td>2304</td>\n",
       "      <td>100.0</td>\n",
       "      <td>100.0</td>\n",
       "      <td>100.0</td>\n",
       "      <td>88.1</td>\n",
       "      <td>306</td>\n",
       "      <td>...</td>\n",
       "      <td>4.0</td>\n",
       "      <td>1.0</td>\n",
       "      <td>1.0</td>\n",
       "      <td>0.0</td>\n",
       "      <td>2.0</td>\n",
       "      <td>1.0</td>\n",
       "      <td>1.0</td>\n",
       "      <td>1.0</td>\n",
       "      <td>4.0</td>\n",
       "      <td>10.0</td>\n",
       "    </tr>\n",
       "  </tbody>\n",
       "</table>\n",
       "<p>1 rows × 1793 columns</p>\n",
       "</div>"
      ],
      "text/plain": [
       "         GEOID  commercial_pct SUBHD0101_S01 SUBHD0102_S01 SUBHD0103_S01  \\\n",
       "0  36005000200        0.047414          4334          2030          2304   \n",
       "\n",
       "  SUBHD0201_S01 SUBHD0202_S01 SUBHD0203_S01 HD03_S01 SUBHD0101_S02  \\\n",
       "0         100.0         100.0         100.0     88.1           306   \n",
       "\n",
       "       ...       Category_Leisure Category_Mobility Category_Nutrition  \\\n",
       "0      ...                    4.0               1.0                1.0   \n",
       "\n",
       "  Category_Personal care Category_Social Category_Taking care  \\\n",
       "0                    0.0             2.0                  1.0   \n",
       "\n",
       "  Category_Unknown Class_ Class_Necessary Class_Optional  \n",
       "0              1.0    1.0             4.0           10.0  \n",
       "\n",
       "[1 rows x 1793 columns]"
      ]
     },
     "execution_count": 182,
     "metadata": {},
     "output_type": "execute_result"
    }
   ],
   "source": [
    "print(TW_FQpd.shape)\n",
    "Census_FQpd = Census_combined.merge(TW_FQpd,on='GEOID')\n",
    "print(Census_FQpd.shape)\n",
    "Census_FQpd.head(1)"
   ]
  },
  {
   "cell_type": "markdown",
   "metadata": {},
   "source": [
    "## ADD GEOMETRY & TYPOLOGIES"
   ]
  },
  {
   "cell_type": "code",
   "execution_count": 183,
   "metadata": {},
   "outputs": [
    {
     "name": "stdout",
     "output_type": "stream",
     "text": [
      "(1885, 1793) Index(['GEOID', 'commercial_pct', 'SUBHD0101_S01', 'SUBHD0102_S01',\n",
      "       'SUBHD0103_S01', 'SUBHD0201_S01', 'SUBHD0202_S01', 'SUBHD0203_S01',\n",
      "       'HD03_S01', 'SUBHD0101_S02',\n",
      "       ...\n",
      "       'Category_Leisure', 'Category_Mobility', 'Category_Nutrition',\n",
      "       'Category_Personal care', 'Category_Social', 'Category_Taking care',\n",
      "       'Category_Unknown', 'Class_', 'Class_Necessary', 'Class_Optional'],\n",
      "      dtype='object', length=1793)\n",
      "(1885, 1803) Index(['GEOID', 'commercial_pct', 'SUBHD0101_S01', 'SUBHD0102_S01',\n",
      "       'SUBHD0103_S01', 'SUBHD0201_S01', 'SUBHD0202_S01', 'SUBHD0203_S01',\n",
      "       'HD03_S01', 'SUBHD0101_S02'],\n",
      "      dtype='object')\n"
     ]
    }
   ],
   "source": [
    "print(Census_FQpd.shape,Census_FQpd.columns)\n",
    "Census_FQpd = Census_FQpd.merge(mergedgpd, on ='GEOID')\n",
    "print(Census_FQpd.shape,Census_FQpd.columns[:10])"
   ]
  },
  {
   "cell_type": "code",
   "execution_count": 184,
   "metadata": {},
   "outputs": [
    {
     "data": {
      "text/plain": [
       "Index(['geometry', 'Type_1.19', 'pct_ch_percol00_16_binary',\n",
       "       'pct_ch_hinc00_16_binary', 'pct_ch_medhval00_16_binary',\n",
       "       'pct_ch_medrent00_16_binary', 'Ongoing_adv_gent', 'gent00_16',\n",
       "       'gent90_00', 'Supergent16'],\n",
       "      dtype='object')"
      ]
     },
     "execution_count": 184,
     "metadata": {},
     "output_type": "execute_result"
    }
   ],
   "source": [
    "Census_FQpd.columns[-10:]"
   ]
  },
  {
   "cell_type": "code",
   "execution_count": 185,
   "metadata": {},
   "outputs": [],
   "source": [
    "typologies = ['Type_1.19','pct_ch_percol00_16_binary','pct_ch_hinc00_16_binary',\\\n",
    "           'pct_ch_medhval00_16_binary','pct_ch_medrent00_16_binary','pct_ch_percol00_16_binary','Ongoing_adv_gent',\n",
    "                                        'gent00_16',\n",
    "                                        'gent90_00',\n",
    "                                      'Supergent16']"
   ]
  },
  {
   "cell_type": "code",
   "execution_count": 186,
   "metadata": {},
   "outputs": [],
   "source": [
    "Census_FQpd = gpd.GeoDataFrame(Census_FQpd)"
   ]
  },
  {
   "cell_type": "code",
   "execution_count": 187,
   "metadata": {},
   "outputs": [
    {
     "name": "stdout",
     "output_type": "stream",
     "text": [
      "(1885, 1803)\n",
      "(1885, 1803)\n"
     ]
    }
   ],
   "source": [
    "print(Census_FQpd.shape)\n",
    "Census_FQpd.dropna(inplace=True)\n",
    "print(Census_FQpd.shape)"
   ]
  },
  {
   "cell_type": "code",
   "execution_count": 188,
   "metadata": {},
   "outputs": [
    {
     "data": {
      "text/plain": [
       "<matplotlib.axes._subplots.AxesSubplot at 0x7eff4c6a8828>"
      ]
     },
     "execution_count": 188,
     "metadata": {},
     "output_type": "execute_result"
    },
    {
     "data": {
      "image/png": "[encoded data removed]",
      "text/plain": [
       "<matplotlib.figure.Figure at 0x7eff4c0795f8>"
      ]
     },
     "metadata": {
      "needs_background": "light"
     },
     "output_type": "display_data"
    }
   ],
   "source": [
    "# visualize what is left\n",
    "figure, ax = plt.subplots()\n",
    "Census_FQpd.plot(column='GEOID',legend = True, ax=ax)"
   ]
  },
  {
   "cell_type": "code",
   "execution_count": 189,
   "metadata": {},
   "outputs": [
    {
     "data": {
      "image/png": "[encoded data removed]",
      "text/plain": [
       "<matplotlib.figure.Figure at 0x7eff4f6b5518>"
      ]
     },
     "metadata": {
      "needs_background": "light"
     },
     "output_type": "display_data"
    }
   ],
   "source": [
    "bin_typs = ['pct_ch_hinc00_16_binary',\n",
    "            'pct_ch_medhval00_16_binary','pct_ch_medrent00_16_binary','pct_ch_percol00_16_binary','Ongoing_adv_gent',\n",
    "            'gent00_16','gent90_00','Supergent16']\n",
    "for i, column in enumerate(bin_typs):\n",
    "    plt.figure(1)\n",
    "    plt.subplot(4,4,i+1)\n",
    "    Census_FQpd[column].value_counts().plot(kind='bar', figsize = (15,15), title=column)\n",
    "    Census_FQpd[column].value_counts()/Census_FQpd[column].value_counts().sum()"
   ]
  },
  {
   "cell_type": "markdown",
   "metadata": {},
   "source": [
    "# Part II. Modeling"
   ]
  },
  {
   "cell_type": "code",
   "execution_count": 190,
   "metadata": {},
   "outputs": [],
   "source": [
    "Census_FQpd_beforedrops = Census_FQpd.copy()\n"
   ]
  },
  {
   "cell_type": "code",
   "execution_count": 191,
   "metadata": {},
   "outputs": [
    {
     "data": {
      "text/plain": [
       "'gent00_16'"
      ]
     },
     "execution_count": 191,
     "metadata": {},
     "output_type": "execute_result"
    }
   ],
   "source": [
    "binary6typ\n"
   ]
  },
  {
   "cell_type": "code",
   "execution_count": 192,
   "metadata": {},
   "outputs": [
    {
     "name": "stdout",
     "output_type": "stream",
     "text": [
      "(1885, 1792)\n",
      "(1885, 1792)\n"
     ]
    }
   ],
   "source": [
    "### Preprocessing Data\n",
    "\n",
    "y = Census_FQpd[binary6typ]\n",
    "X_Census_FQpd = Census_FQpd.drop(typologies+['GEOID','geometry'],axis =1).copy()\n",
    "print(X_Census_FQpd.shape)\n",
    "X_Census_FQpd.dropna(inplace=True)\n",
    "print(X_Census_FQpd.shape)"
   ]
  },
  {
   "cell_type": "code",
   "execution_count": 193,
   "metadata": {},
   "outputs": [
    {
     "data": {
      "text/plain": [
       "Index(['commercial_pct', 'SUBHD0101_S01', 'SUBHD0102_S01', 'SUBHD0103_S01',\n",
       "       'SUBHD0201_S01', 'SUBHD0202_S01', 'SUBHD0203_S01', 'HD03_S01',\n",
       "       'SUBHD0101_S02', 'SUBHD0102_S02',\n",
       "       ...\n",
       "       'Category_Leisure', 'Category_Mobility', 'Category_Nutrition',\n",
       "       'Category_Personal care', 'Category_Social', 'Category_Taking care',\n",
       "       'Category_Unknown', 'Class_', 'Class_Necessary', 'Class_Optional'],\n",
       "      dtype='object', length=1792)"
      ]
     },
     "execution_count": 193,
     "metadata": {},
     "output_type": "execute_result"
    }
   ],
   "source": [
    "X_Census_FQpd.columns"
   ]
  },
  {
   "cell_type": "code",
   "execution_count": 194,
   "metadata": {},
   "outputs": [
    {
     "ename": "ValueError",
     "evalue": "could not convert string to float: '(X)'",
     "output_type": "error",
     "traceback": [
      "\u001b[0;31m---------------------------------------------------------------------------\u001b[0m",
      "\u001b[0;31mValueError\u001b[0m                                Traceback (most recent call last)",
      "\u001b[0;32m<ipython-input-194-265e82268c85>\u001b[0m in \u001b[0;36m<module>\u001b[0;34m()\u001b[0m\n\u001b[1;32m      4\u001b[0m \u001b[0;34m\u001b[0m\u001b[0m\n\u001b[1;32m      5\u001b[0m \u001b[0mmodels\u001b[0m \u001b[0;34m=\u001b[0m \u001b[0;34m[\u001b[0m\u001b[0;34m'Raw'\u001b[0m\u001b[0;34m,\u001b[0m\u001b[0;34m'Scaled'\u001b[0m\u001b[0;34m,\u001b[0m\u001b[0;34m'Minmaxed'\u001b[0m\u001b[0;34m]\u001b[0m\u001b[0;34m\u001b[0m\u001b[0m\n\u001b[0;32m----> 6\u001b[0;31m \u001b[0mXdata_scaled\u001b[0m \u001b[0;34m=\u001b[0m \u001b[0mpreprocessing\u001b[0m\u001b[0;34m.\u001b[0m\u001b[0mscale\u001b[0m\u001b[0;34m(\u001b[0m\u001b[0mX_Census_FQpd\u001b[0m\u001b[0;34m)\u001b[0m\u001b[0;34m\u001b[0m\u001b[0m\n\u001b[0m\u001b[1;32m      7\u001b[0m \u001b[0;31m# ydata_scaled = preprocessing.scale(y)\u001b[0m\u001b[0;34m\u001b[0m\u001b[0;34m\u001b[0m\u001b[0m\n\u001b[1;32m      8\u001b[0m \u001b[0;34m\u001b[0m\u001b[0m\n",
      "\u001b[0;32m/usr/local/Anaconda3-5.0.0-Linux-x86_64/envs/ADS/lib/python3.5/site-packages/sklearn/preprocessing/data.py\u001b[0m in \u001b[0;36mscale\u001b[0;34m(X, axis, with_mean, with_std, copy)\u001b[0m\n\u001b[1;32m    143\u001b[0m     X = check_array(X, accept_sparse='csc', copy=copy, ensure_2d=False,\n\u001b[1;32m    144\u001b[0m                     \u001b[0mwarn_on_dtype\u001b[0m\u001b[0;34m=\u001b[0m\u001b[0;32mTrue\u001b[0m\u001b[0;34m,\u001b[0m \u001b[0mestimator\u001b[0m\u001b[0;34m=\u001b[0m\u001b[0;34m'the scale function'\u001b[0m\u001b[0;34m,\u001b[0m\u001b[0;34m\u001b[0m\u001b[0m\n\u001b[0;32m--> 145\u001b[0;31m                     dtype=FLOAT_DTYPES, force_all_finite='allow-nan')\n\u001b[0m\u001b[1;32m    146\u001b[0m     \u001b[0;32mif\u001b[0m \u001b[0msparse\u001b[0m\u001b[0;34m.\u001b[0m\u001b[0missparse\u001b[0m\u001b[0;34m(\u001b[0m\u001b[0mX\u001b[0m\u001b[0;34m)\u001b[0m\u001b[0;34m:\u001b[0m\u001b[0;34m\u001b[0m\u001b[0m\n\u001b[1;32m    147\u001b[0m         \u001b[0;32mif\u001b[0m \u001b[0mwith_mean\u001b[0m\u001b[0;34m:\u001b[0m\u001b[0;34m\u001b[0m\u001b[0m\n",
      "\u001b[0;32m/usr/local/Anaconda3-5.0.0-Linux-x86_64/envs/ADS/lib/python3.5/site-packages/sklearn/utils/validation.py\u001b[0m in \u001b[0;36mcheck_array\u001b[0;34m(array, accept_sparse, accept_large_sparse, dtype, order, copy, force_all_finite, ensure_2d, allow_nd, ensure_min_samples, ensure_min_features, warn_on_dtype, estimator)\u001b[0m\n\u001b[1;32m    520\u001b[0m             \u001b[0;32mtry\u001b[0m\u001b[0;34m:\u001b[0m\u001b[0;34m\u001b[0m\u001b[0m\n\u001b[1;32m    521\u001b[0m                 \u001b[0mwarnings\u001b[0m\u001b[0;34m.\u001b[0m\u001b[0msimplefilter\u001b[0m\u001b[0;34m(\u001b[0m\u001b[0;34m'error'\u001b[0m\u001b[0;34m,\u001b[0m \u001b[0mComplexWarning\u001b[0m\u001b[0;34m)\u001b[0m\u001b[0;34m\u001b[0m\u001b[0m\n\u001b[0;32m--> 522\u001b[0;31m                 \u001b[0marray\u001b[0m \u001b[0;34m=\u001b[0m \u001b[0mnp\u001b[0m\u001b[0;34m.\u001b[0m\u001b[0masarray\u001b[0m\u001b[0;34m(\u001b[0m\u001b[0marray\u001b[0m\u001b[0;34m,\u001b[0m \u001b[0mdtype\u001b[0m\u001b[0;34m=\u001b[0m\u001b[0mdtype\u001b[0m\u001b[0;34m,\u001b[0m \u001b[0morder\u001b[0m\u001b[0;34m=\u001b[0m\u001b[0morder\u001b[0m\u001b[0;34m)\u001b[0m\u001b[0;34m\u001b[0m\u001b[0m\n\u001b[0m\u001b[1;32m    523\u001b[0m             \u001b[0;32mexcept\u001b[0m \u001b[0mComplexWarning\u001b[0m\u001b[0;34m:\u001b[0m\u001b[0;34m\u001b[0m\u001b[0m\n\u001b[1;32m    524\u001b[0m                 raise ValueError(\"Complex data not supported\\n\"\n",
      "\u001b[0;32m/usr/local/Anaconda3-5.0.0-Linux-x86_64/envs/ADS/lib/python3.5/site-packages/numpy/core/numeric.py\u001b[0m in \u001b[0;36masarray\u001b[0;34m(a, dtype, order)\u001b[0m\n\u001b[1;32m    529\u001b[0m \u001b[0;34m\u001b[0m\u001b[0m\n\u001b[1;32m    530\u001b[0m     \"\"\"\n\u001b[0;32m--> 531\u001b[0;31m     \u001b[0;32mreturn\u001b[0m \u001b[0marray\u001b[0m\u001b[0;34m(\u001b[0m\u001b[0ma\u001b[0m\u001b[0;34m,\u001b[0m \u001b[0mdtype\u001b[0m\u001b[0;34m,\u001b[0m \u001b[0mcopy\u001b[0m\u001b[0;34m=\u001b[0m\u001b[0;32mFalse\u001b[0m\u001b[0;34m,\u001b[0m \u001b[0morder\u001b[0m\u001b[0;34m=\u001b[0m\u001b[0morder\u001b[0m\u001b[0;34m)\u001b[0m\u001b[0;34m\u001b[0m\u001b[0m\n\u001b[0m\u001b[1;32m    532\u001b[0m \u001b[0;34m\u001b[0m\u001b[0m\n\u001b[1;32m    533\u001b[0m \u001b[0;34m\u001b[0m\u001b[0m\n",
      "\u001b[0;31mValueError\u001b[0m: could not convert string to float: '(X)'"
     ]
    }
   ],
   "source": [
    "# Normalize\n",
    "\n",
    "min_max_scaler = MinMaxScaler()\n",
    "\n",
    "models = ['Raw','Scaled','Minmaxed']\n",
    "Xdata_scaled = preprocessing.scale(X_Census_FQpd)\n",
    "# ydata_scaled = preprocessing.scale(y)\n",
    "\n",
    "Xdata_minmaxed = min_max_scaler.fit_transform(X_Census_FQpd)\n",
    "# ydata_minmaxed = min_max_scaler.fit_transform(y)\n",
    "\n",
    "dictx = {}\n",
    "dictx['Raw'] = X_Census_FQpd\n",
    "dictx['Scaled'] = Xdata_scaled\n",
    "dictx['Minmaxed'] = Xdata_minmaxed\n",
    "                    \n",
    "\n",
    "# x = dictx[model][0]\n",
    "# y = dictx[model][1]"
   ]
  },
  {
   "cell_type": "code",
   "execution_count": null,
   "metadata": {},
   "outputs": [],
   "source": [
    "model_f1_scores = {}\n",
    "model_recall_scores = {}\n",
    "model_precision_scores = {}\n",
    "imp_dict = {}\n",
    "names_dict ={}\n",
    "model = {}\n",
    "modelslist = ['Logit','DT','RF','SVM'] \n",
    "for m in models:\n",
    "    # X_train[m], X_test[m], y_train[m], y_test[m]\n",
    "    dictx[m]\n",
    "    model[m] = {}\n",
    "    model_f1_scores[m] = {}\n",
    "    model_recall_scores[m] ={}\n",
    "    model_precision_scores[m] = {}\n",
    "    imp_dict[m] = {}\n",
    "    names_dict[m] = {}\n",
    "resultset=Census_FQpd_beforedrops.copy()"
   ]
  },
  {
   "cell_type": "code",
   "execution_count": null,
   "metadata": {},
   "outputs": [],
   "source": [
    "X_train = {}\n",
    "X_test = {}\n",
    "y_train = {}\n",
    "y_test = {}\n",
    "for m in models:\n",
    "\n",
    "    X_train[m], X_test[m], y_train[m], y_test[m] = train_test_split(dictx[m], y, test_size = 0.3, random_state = 1)    \n",
    "    #x >> dictx[m][0]\n",
    "    # y =>> dictx[m][1]\n",
    "    print(X_train[m].shape, X_test[m].shape, y_train[m].shape, y_test[m].shape)"
   ]
  },
  {
   "cell_type": "code",
   "execution_count": null,
   "metadata": {},
   "outputs": [],
   "source": []
  },
  {
   "cell_type": "code",
   "execution_count": 195,
   "metadata": {},
   "outputs": [
    {
     "ename": "NameError",
     "evalue": "name 'model' is not defined",
     "output_type": "error",
     "traceback": [
      "\u001b[0;31m---------------------------------------------------------------------------\u001b[0m",
      "\u001b[0;31mNameError\u001b[0m                                 Traceback (most recent call last)",
      "\u001b[0;32m<ipython-input-195-17307f6f48bd>\u001b[0m in \u001b[0;36m<module>\u001b[0;34m()\u001b[0m\n\u001b[0;32m----> 1\u001b[0;31m \u001b[0mmodel\u001b[0m\u001b[0;34m\u001b[0m\u001b[0m\n\u001b[0m\u001b[1;32m      2\u001b[0m \u001b[0;32mdef\u001b[0m \u001b[0mf_importances_neg\u001b[0m\u001b[0;34m(\u001b[0m\u001b[0mcoef\u001b[0m\u001b[0;34m,\u001b[0m \u001b[0mnames\u001b[0m\u001b[0;34m,\u001b[0m\u001b[0mm\u001b[0m\u001b[0;34m)\u001b[0m\u001b[0;34m:\u001b[0m\u001b[0;34m\u001b[0m\u001b[0m\n\u001b[1;32m      3\u001b[0m \u001b[0;34m\u001b[0m\u001b[0m\n\u001b[1;32m      4\u001b[0m     \u001b[0mimp\u001b[0m \u001b[0;34m=\u001b[0m \u001b[0mcoef\u001b[0m\u001b[0;34m\u001b[0m\u001b[0m\n\u001b[1;32m      5\u001b[0m     \u001b[0mprint\u001b[0m\u001b[0;34m(\u001b[0m\u001b[0;34m(\u001b[0m\u001b[0mimp\u001b[0m\u001b[0;34m.\u001b[0m\u001b[0mshape\u001b[0m\u001b[0;34m)\u001b[0m\u001b[0;34m)\u001b[0m\u001b[0;34m\u001b[0m\u001b[0m\n",
      "\u001b[0;31mNameError\u001b[0m: name 'model' is not defined"
     ]
    }
   ],
   "source": [
    "model\n",
    "def f_importances_neg(coef, names,m):\n",
    "    \n",
    "    imp = coef\n",
    "    print((imp.shape))\n",
    "    imp,names = zip(*sorted(zip(list(imp)[0],names)))\n",
    "    imp = imp[:20]\n",
    "    names = names[:20]\n",
    "    plt.figure(figsize=(5,5))\n",
    "    plt.title('Negative Weights of Logistic Classifier for Model \\''+m+'\\'', size = 10)\n",
    "    plt.barh(range(len(names)), imp, align='center')\n",
    "    plt.yticks(range(len(names)), names)  \n",
    "    plt.xticks(size = 8)\n",
    "    plt.show()\n",
    "def f_importances_pos(coef, names,m):\n",
    "    imp = coef\n",
    "    print((imp.shape))\n",
    "    imp,names = zip(*sorted(zip(list(imp)[0],names)))\n",
    "    imp = imp[-20:]\n",
    "    names = names[-20:]\n",
    "    plt.figure(figsize=(5,5))\n",
    "    plt.title('Positive Weights of Logistic Classifier for Model \\''+m+'\\'', size = 10)\n",
    "    plt.barh(range(len(names)), imp, align='center')\n",
    "    plt.yticks(range(len(names)), names)\n",
    "#     plt.xlabel(size=8)\n",
    "    plt.xticks(size = 8)\n",
    "    plt.show()\n",
    "def f_importances_unimp(coef, names,m):\n",
    "    imp = coef\n",
    "    print((imp.shape))\n",
    "    imp,names = zip(*sorted(zip(list(imp)[0],names)))\n",
    "    lenimp_2 = len(imp)//2\n",
    "    imp = imp[lenimp_2-10:lenimp_2+10]\n",
    "    names = names[lenimp_2-10:lenimp_2+10]\n",
    "    plt.figure(figsize=(5,5))\n",
    "    plt.title('Weights of Logistic Classifier for Model \\''+m+'\\'', size = 10)\n",
    "    plt.barh(range(len(names)), imp, align='center')\n",
    "    plt.yticks(range(len(names)), names)\n",
    "    plt.xticks(size = 8)\n",
    "    plt.show()\n",
    "def f_importances_all(coef, names,m):\n",
    "    imp = coef\n",
    "    print((imp.shape))\n",
    "    imp,names = zip(*sorted(zip(list(imp)[0],names)))\n",
    "    plt.figure(figsize=(5,5))\n",
    "    plt.title('Negative Weights of Logistic Classifier for Model \\''+m+'\\'', size = 10)\n",
    "    plt.barh(range(len(names)), imp, align='center')\n",
    "    plt.yticks(range(len(names)), names)\n",
    "    plt.xticks(size = 8)\n",
    "    plt.show()"
   ]
  },
  {
   "cell_type": "markdown",
   "metadata": {},
   "source": [
    "# LR"
   ]
  },
  {
   "cell_type": "code",
   "execution_count": null,
   "metadata": {
    "scrolled": false
   },
   "outputs": [],
   "source": [
    "## Logistic Reeg\n",
    "imp = {}\n",
    "for m in models:\n",
    "#     dictx[m]\n",
    "#     model[m]\n",
    "# X_train[m], X_test[m], y_train[m], y_test[m]\n",
    "\n",
    "    logit_1 = LogisticRegression(C = 10000)\n",
    "#     print(X_train[m].shape,y_train[m].shape)\n",
    "    logit_1.fit(X_train[m], y_train[m])\n",
    "#     print(logit_1.score(X_test[m],y_test[m]))\n",
    "    model[m]['Logit'] = logit_1.score(X_test[m],y_test[m])\n",
    "#     resultset[m+'_Logit_predicttyp']=logit_1.predict(dictx[m])\n",
    "    y_pred = logit_1.predict(X_test[m])\n",
    "    y_true = y_test[m]\n",
    "    model_f1_scores[m]['Logit'] = f1_score(y_true, y_pred, labels=None, pos_label=1, average='binary', sample_weight=None)\n",
    "    model_recall_scores[m]['Logit'] = recall_score(y_true, y_pred, labels=None, pos_label=1, average='binary', sample_weight=None)\n",
    "    model_precision_scores[m]['Logit'] = precision_score(y_true, y_pred, labels=None, pos_label=1, average='binary', sample_weight=None)\n",
    "    f_importances_pos(logit_1.coef_, np.asarray(list(X_train['Raw'].columns)),m)\n",
    "    f_importances_neg(logit_1.coef_, np.asarray(list(X_train['Raw'].columns)),m)\n",
    "    f_importances_unimp(logit_1.coef_, np.asarray(list(X_train['Raw'].columns)),m)\n",
    "    imp3,names = zip(*sorted(zip(list(logit_1.coef_)[0],np.asarray(list(X_train['Raw'].columns)))))\n",
    "    names_dict[m]['Logit'] = names\n",
    "    imp_dict[m]['Logit'] =  imp3\n",
    "    f_importances_all(logit_1.coef_, np.asarray(list(X_train['Raw'].columns)),m)\n",
    "model_f1_scores\n",
    "pd.DataFrame(imp_dict)"
   ]
  },
  {
   "cell_type": "code",
   "execution_count": null,
   "metadata": {},
   "outputs": [],
   "source": [
    "def featureImportancePlot_dt(rf, labels,m):\n",
    "    importances = rf.feature_importances_[:]\n",
    "    indices = np.argsort(importances)[::-1]\n",
    "    importances_10 = rf.feature_importances_[:][:10]\n",
    "    indices_10 = np.argsort(importances_10)[::-1]\n",
    "    #std = np.std([tree.feature_importances_ for tree in rf.estimators_],\n",
    "    #         axis=0)\n",
    "    pl.figure(figsize=(5,5))\n",
    "    pl.title(\"Feature importances\")\n",
    "    pl.bar(range(indices_10.shape[0]), rf.feature_importances_[indices_10],\n",
    "       color=\"SteelBlue\", #yerr=std[indices]\n",
    "           align=\"center\")\n",
    "    pl.xticks(range(indices_10.shape[0]), np.array(labels)[indices_10], rotation=90)\n",
    "    pl.xlim([-1, indices_10.shape[0]])\n",
    "    pl.show()\n",
    "    print(importances) \n",
    "    \n",
    "    return rf.feature_importances_[indices], np.array(labels)[indices]"
   ]
  },
  {
   "cell_type": "markdown",
   "metadata": {},
   "source": [
    "# DT"
   ]
  },
  {
   "cell_type": "code",
   "execution_count": null,
   "metadata": {
    "scrolled": false
   },
   "outputs": [],
   "source": [
    "seed = 5\n",
    "# print(y_train.shape, X_train.shape)\n",
    "for m in models:\n",
    "    #     dictx[m]\n",
    "    #     model[m]\n",
    "\n",
    "    OS = []\n",
    "#     param_grid = {'n_estimators':range(1,11),'max_depth':range(1,11),'max_leaf_nodes':range(2,11)}\n",
    "#     dt=DecisionTreeClassifier()\n",
    "#     gr=GridSearchCV(dt,param_grid=param_grid,scoring='roc_auc')\n",
    "#     ds=gr.fit(X_train[m],y_train[m])\n",
    "\n",
    "    for c in range(5):\n",
    "#         print (ds.best_params_,ds.best_params_['max_depth'],ds.best_params_['max_leaf_nodes'])\n",
    "        dt=DecisionTreeClassifier()\n",
    "        dt = DecisionTreeClassifier(max_depth=3)\n",
    "        dt.fit(X_train[m], y_train[m])\n",
    "        pred=dt.predict_proba(X_test[m])[:,1]\n",
    "        OS.append(dt.score(X_test[m],y_test[m]))\n",
    "    model[m]['DT'] = mean(OS)\n",
    "#     resultset[m+'_DT_predicttyp']=dt.predict(dictx[m])\n",
    "    y_pred = dt.predict(X_test[m])\n",
    "    y_true = y_test[m]\n",
    "    model_f1_scores[m]['DT'] = f1_score(y_true, y_pred, labels=None, pos_label=1, average='binary', sample_weight=None)\n",
    "    model_recall_scores[m]['DT'] = recall_score(y_true, y_pred, labels=None, pos_label=1, average='binary', sample_weight=None)\n",
    "    model_precision_scores[m]['DT'] = precision_score(y_true, y_pred, labels=None, pos_label=1, average='binary', sample_weight=None)\n",
    "    imp_dict[m]['DT'], names_dict[m]['DT'] =  featureImportancePlot_dt(dt, X_Census_FQpd.columns,m)\n",
    "model_f1_scores"
   ]
  },
  {
   "cell_type": "code",
   "execution_count": null,
   "metadata": {},
   "outputs": [],
   "source": [
    "model_f1_scores['Raw']['DT']"
   ]
  },
  {
   "cell_type": "code",
   "execution_count": null,
   "metadata": {},
   "outputs": [],
   "source": [
    "resultset['actualtyp']=y"
   ]
  },
  {
   "cell_type": "markdown",
   "metadata": {},
   "source": [
    "# Random Forest"
   ]
  },
  {
   "cell_type": "code",
   "execution_count": null,
   "metadata": {},
   "outputs": [],
   "source": [
    "def featureImportancePlot(rf, labels,m):\n",
    "    '''plots feature importance for random forest\n",
    "    rf: the random forest model fit to the data\n",
    "    labels: the names of the features\n",
    "    '''\n",
    "    \n",
    "    importances = rf.feature_importances_[:10]\n",
    "    indices = np.argsort(importances)[::-1]\n",
    "    std = np.std([tree.feature_importances_ for tree in rf.estimators_],\n",
    "             axis=0)\n",
    "\n",
    "    pl.figure()\n",
    "    pl.title(\"Feature importances for Model\"+ m)\n",
    "    pl.bar(range(indices.shape[0]), rf.feature_importances_[indices],\n",
    "       color=\"SteelBlue\", yerr=std[indices], align=\"center\")\n",
    "    pl.xticks(range(indices.shape[0]), np.array(labels)[indices], rotation=90)\n",
    "    pl.xlim([-1, indices.shape[0]])\n",
    "    pl.show()\n",
    "\n",
    "\n",
    "# def featureImportancePlot(rf, labels,m):\n",
    "#     '''plots feature importance for random forest\n",
    "#     rf: the random forest model fit to the data\n",
    "#     labels: the names of the features\n",
    "#     '''\n",
    "#     importances = rf.feature_importances_\n",
    "#     indices = np.argsort(importances)[::-1]\n",
    "#     importances_10 = rf.feature_importances_[:10]\n",
    "#     indices_10 = np.argsort(importances_10)[::-1]\n",
    "#     std = np.std([tree.feature_importances_ for tree in rf.estimators_],\n",
    "#              axis=0)\n",
    "\n",
    "#     pl.figure(figsize=(5,5))\n",
    "#     pl.title(\"Feature importances of Random Forest for Model \"+m)\n",
    "#     pl.bar(range(indices_10.shape[0]), rf.feature_importances_[indices_10],\n",
    "#        color=\"SteelBlue\", yerr=std[indices_10], align=\"center\")\n",
    "#     pl.xticks(range(indices_10.shape[0]), np.array(labels)[indices_10], rotation=90)\n",
    "#     pl.xlim([-1, indices_10.shape[0]])\n",
    "#     pl.show()\n",
    "#     return rf.feature_importances_[indices], np.array(labels)[indices]"
   ]
  },
  {
   "cell_type": "code",
   "execution_count": null,
   "metadata": {
    "scrolled": false
   },
   "outputs": [],
   "source": [
    "for m in models:\n",
    "    #     dictx[m]\n",
    "    print(m)\n",
    "    param_grid = {'max_depth':range(1,11),'n_estimators':range(1,11),'max_leaf_nodes':range(2,11)}\n",
    "    rf=RandomForestClassifier()\n",
    "    gr=GridSearchCV(rf,param_grid=param_grid,scoring='roc_auc')\n",
    "    rs=gr.fit(X_train[m],y_train[m])\n",
    "    OS = []\n",
    "    for c in range(5):\n",
    "        print(rs.best_params_,rs.best_params_['max_depth'],rs.best_params_['max_leaf_nodes'])\n",
    "        rf = RandomForestClassifier(max_depth=rs.best_params_['max_depth'],max_leaf_nodes=rs.best_params_['max_leaf_nodes'])\n",
    "        rf.fit(X_train[m], y_train[m])\n",
    "        pred=rf.predict_proba(X_test[m])[:,1]\n",
    "        OS.append(rf.score(X_test[m],y_test[m]))\n",
    "    model[m]['RF'] = mean(OS)\n",
    "    resultset[m+'_RF_predicttyp']=rf.predict(dictx[m])\n",
    "    y_pred = rf.predict(X_test[m])\n",
    "    y_true = y_test[m]\n",
    "    model_f1_scores[m]['RF'] = f1_score(y_true, y_pred, labels=None, pos_label=1, average='binary', sample_weight=None)\n",
    "    model_recall_scores[m]['RF'] = recall_score(y_true, y_pred, labels=None, pos_label=1, average='binary', sample_weight=None)\n",
    "    model_precision_scores[m]['RF'] = precision_score(y_true, y_pred, labels=None, pos_label=1, average='binary', sample_weight=None)\n",
    "    imp_dict[m]['RF'], names_dict[m]['RF'] =  featureImportancePlot_dt(dt, X_Census_FQpd.columns,m)\n",
    "model_f1_scores"
   ]
  },
  {
   "cell_type": "markdown",
   "metadata": {},
   "source": [
    "#### Note that the features have changed considerably with the updated binary typology-- users and checkins were the most important features initially."
   ]
  },
  {
   "cell_type": "markdown",
   "metadata": {},
   "source": [
    "# SVM"
   ]
  },
  {
   "cell_type": "code",
   "execution_count": null,
   "metadata": {},
   "outputs": [],
   "source": [
    "model\n",
    "def f_importances_neg(coef, names,m):\n",
    "    \n",
    "    imp = coef\n",
    "    print((imp.shape))\n",
    "    imp,names = zip(*sorted(zip(list(imp)[0],names)))\n",
    "    imp = imp[:20]\n",
    "    names = names[:20]\n",
    "    plt.figure(figsize=(5,5))\n",
    "    plt.title('Negative Weights of SVM Classifier for Model \\''+m+'\\'', size = 10)\n",
    "    plt.barh(range(len(names)), imp, align='center')\n",
    "    plt.yticks(range(len(names)), names)  \n",
    "    plt.xticks(size = 8)\n",
    "    plt.show()\n",
    "def f_importances_pos(coef, names,m):\n",
    "    imp = coef\n",
    "    print((imp.shape))\n",
    "    imp,names = zip(*sorted(zip(list(imp)[0],names)))\n",
    "    imp = imp[-20:]\n",
    "    names = names[-20:]\n",
    "    plt.figure(figsize=(5,5))\n",
    "    plt.title('Positive Weights of SVM Classifier for Model \\''+m+'\\'', size = 10)\n",
    "    plt.barh(range(len(names)), imp, align='center')\n",
    "    plt.yticks(range(len(names)), names)\n",
    "#     plt.xlabel(size=8)\n",
    "    plt.xticks(size = 8)\n",
    "    plt.show()\n",
    "def f_importances_unimp(coef, names,m):\n",
    "    imp = coef\n",
    "    print((imp.shape))\n",
    "    imp,names = zip(*sorted(zip(list(imp)[0],names)))\n",
    "    lenimp_2 = len(imp)//2\n",
    "    imp = imp[lenimp_2-10:lenimp_2+10]\n",
    "    names = names[lenimp_2-10:lenimp_2+10]\n",
    "    plt.figure(figsize=(5,5))\n",
    "    plt.title('Weights of SVM Classifier for Model \\''+m+'\\'', size = 10)\n",
    "    plt.barh(range(len(names)), imp, align='center')\n",
    "    plt.yticks(range(len(names)), names)\n",
    "    plt.xticks(size = 8)\n",
    "    plt.show()\n",
    "def f_importances_all(coef, names,m):\n",
    "    imp = coef\n",
    "    print((imp.shape))\n",
    "    imp,names = zip(*sorted(zip(list(imp)[0],names)))\n",
    "    plt.figure(figsize=(5,5))\n",
    "    plt.title('Negative Weights of SVM Classifier for Model \\''+m+'\\'', size = 10)\n",
    "    plt.barh(range(len(names)), imp, align='center')\n",
    "    plt.yticks(range(len(names)), names)\n",
    "#     plt.xlabel(size=8)\n",
    "    plt.xticks(size = 8)\n",
    "    plt.show()\n",
    "\n"
   ]
  },
  {
   "cell_type": "code",
   "execution_count": null,
   "metadata": {
    "scrolled": false
   },
   "outputs": [],
   "source": [
    "\n",
    "# When C is very small, we are willing to tolerate more mistakes. If C is very big, this\n",
    "# means we hardly tolerate any mistakes. So, we cannot choose a very large C if our data is not\n",
    "# really separable. Let's however choose from a broad range of reasonable options.\n",
    "# param_grid = {'kernel':['linear'],'C':[np.exp(i) for i in np.linspace(-10,10,10)]}\n",
    "for m in models:\n",
    "    print(m)\n",
    "    OS = []\n",
    "    #     dictx[m]\n",
    "        #     model[m]\n",
    "    rr = svm.SVC(gamma='auto')\n",
    "    rr.fit(X_train[m], y_train[m])\n",
    "    correct=1.0*(rr.predict(X_test[m])==np.asarray(y_test[m])).sum()/len(y_test[m])\n",
    "    print(correct)\n",
    "    print(rr.score(X_test[m],y_test[m]))\n",
    "    OS.append(correct)\n",
    "#     resultset[m+'_SVM_predicttyp']=rr.predict(dictx[m])\n",
    "    model[m]['SVM'] = mean(OS)\n",
    "    y_pred = rf.predict(X_test[m])\n",
    "    y_true = y_test[m]\n",
    "    model_f1_scores[m]['SVM'] = f1_score(y_true, y_pred, labels=None, pos_label=1, average='binary', sample_weight=None)\n",
    "    model_recall_scores[m]['SVM'] = recall_score(y_true, y_pred, labels=None, pos_label=1, average='binary', sample_weight=None)\n",
    "    model_precision_scores[m]['SVM'] = precision_score(y_true, y_pred, labels=None, pos_label=1, average='binary', sample_weight=None)\n",
    "    f_importances_pos(logit_1.coef_, np.asarray(list(X_train['Raw'].columns)),m)\n",
    "    f_importances_neg(logit_1.coef_, np.asarray(list(X_train['Raw'].columns)),m)\n",
    "    f_importances_unimp(logit_1.coef_, np.asarray(list(X_train['Raw'].columns)),m)\n",
    "    imp3,names = zip(*sorted(zip(list(logit_1.coef_)[0],np.asarray(list(X_train['Raw'].columns)))))\n",
    "    names_dict[m]['SVM'] = names\n",
    "    imp_dict[m]['SVM'] = imp3 \n",
    "model_f1_scores"
   ]
  },
  {
   "cell_type": "markdown",
   "metadata": {},
   "source": [
    "# Summary of Results"
   ]
  },
  {
   "cell_type": "code",
   "execution_count": null,
   "metadata": {},
   "outputs": [],
   "source": [
    "X_Census_FQpd.columns"
   ]
  },
  {
   "cell_type": "code",
   "execution_count": null,
   "metadata": {},
   "outputs": [],
   "source": [
    "X_Census_FQpd.shape"
   ]
  },
  {
   "cell_type": "code",
   "execution_count": null,
   "metadata": {},
   "outputs": [],
   "source": []
  },
  {
   "cell_type": "code",
   "execution_count": null,
   "metadata": {},
   "outputs": [],
   "source": [
    "df1 = pd.DataFrame(model_f1_scores)\n",
    "df2 = pd.DataFrame(model_recall_scores)\n",
    "df3 =pd.DataFrame(model_precision_scores)\n",
    "result = pd.concat([df1, df2,df3], axis=1, sort=False)\n",
    "result"
   ]
  },
  {
   "cell_type": "code",
   "execution_count": null,
   "metadata": {},
   "outputs": [],
   "source": [
    "model_name"
   ]
  },
  {
   "cell_type": "code",
   "execution_count": null,
   "metadata": {},
   "outputs": [],
   "source": [
    "result.to_csv('./Results/Scores'+model_name+'.csv')"
   ]
  },
  {
   "cell_type": "code",
   "execution_count": null,
   "metadata": {},
   "outputs": [],
   "source": [
    "names_pd = pd.DataFrame()\n",
    "counter = {}\n",
    "for m in models:\n",
    "    print(m)\n",
    "    for standarized in modelslist:\n",
    "        for i, weights in enumerate(names_dict[m][standarized]):\n",
    "            standarized_m = str(standarized)+'_'+str(m)\n",
    "            names_pd.loc[standarized_m,weights] = imp_dict[m][standarized][i]\n"
   ]
  },
  {
   "cell_type": "code",
   "execution_count": null,
   "metadata": {
    "scrolled": true
   },
   "outputs": [],
   "source": [
    "for i in names_pd.index:\n",
    "    print(names_pd.loc[i].idxmax())"
   ]
  },
  {
   "cell_type": "code",
   "execution_count": null,
   "metadata": {},
   "outputs": [],
   "source": [
    "model_name"
   ]
  },
  {
   "cell_type": "code",
   "execution_count": null,
   "metadata": {
    "scrolled": true
   },
   "outputs": [],
   "source": [
    "names_pd.to_csv('./Results/'+model_name+'.csv')\n",
    "names_pd"
   ]
  },
  {
   "cell_type": "code",
   "execution_count": null,
   "metadata": {},
   "outputs": [],
   "source": []
  },
  {
   "cell_type": "code",
   "execution_count": null,
   "metadata": {},
   "outputs": [],
   "source": []
  },
  {
   "cell_type": "code",
   "execution_count": null,
   "metadata": {},
   "outputs": [],
   "source": []
  },
  {
   "cell_type": "markdown",
   "metadata": {},
   "source": [
    "- You can refer to https://github.com/mv1742/updny_2"
   ]
  }
 ],
 "metadata": {
  "kernelspec": {
   "display_name": "ADS",
   "language": "python",
   "name": "ads"
  },
  "language_info": {
   "codemirror_mode": {
    "name": "ipython",
    "version": 3
   },
   "file_extension": ".py",
   "mimetype": "text/x-python",
   "name": "python",
   "nbconvert_exporter": "python",
   "pygments_lexer": "ipython3",
   "version": "3.5.0"
  }
 },
 "nbformat": 4,
 "nbformat_minor": 2
}
